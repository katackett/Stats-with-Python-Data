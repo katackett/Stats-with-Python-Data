{
 "cells": [
  {
   "cell_type": "code",
   "execution_count": 1,
   "metadata": {},
   "outputs": [],
   "source": [
    "#Midterm\n",
    "#Kaylee Tackett\n",
    "\n",
    "import numpy as np\n",
    "import pandas as pd\n",
    "import matplotlib.pyplot as plt"
   ]
  },
  {
   "cell_type": "code",
   "execution_count": 2,
   "metadata": {},
   "outputs": [
    {
     "data": {
      "text/html": [
       "<div>\n",
       "<style scoped>\n",
       "    .dataframe tbody tr th:only-of-type {\n",
       "        vertical-align: middle;\n",
       "    }\n",
       "\n",
       "    .dataframe tbody tr th {\n",
       "        vertical-align: top;\n",
       "    }\n",
       "\n",
       "    .dataframe thead th {\n",
       "        text-align: right;\n",
       "    }\n",
       "</style>\n",
       "<table border=\"1\" class=\"dataframe\">\n",
       "  <thead>\n",
       "    <tr style=\"text-align: right;\">\n",
       "      <th></th>\n",
       "      <th>cases</th>\n",
       "      <th>deaths</th>\n",
       "      <th>fips</th>\n",
       "      <th>masks_never</th>\n",
       "      <th>masks_rarely</th>\n",
       "      <th>masks_sometimes</th>\n",
       "      <th>masks_frequently</th>\n",
       "      <th>masks_always</th>\n",
       "    </tr>\n",
       "  </thead>\n",
       "  <tbody>\n",
       "    <tr>\n",
       "      <th>count</th>\n",
       "      <td>1.170000e+02</td>\n",
       "      <td>117.000000</td>\n",
       "      <td>115.000000</td>\n",
       "      <td>115.000000</td>\n",
       "      <td>115.000000</td>\n",
       "      <td>115.000000</td>\n",
       "      <td>115.000000</td>\n",
       "      <td>115.000000</td>\n",
       "    </tr>\n",
       "    <tr>\n",
       "      <th>mean</th>\n",
       "      <td>4.430294e+05</td>\n",
       "      <td>7055.316239</td>\n",
       "      <td>29117.713043</td>\n",
       "      <td>0.134061</td>\n",
       "      <td>0.127165</td>\n",
       "      <td>0.151652</td>\n",
       "      <td>0.210539</td>\n",
       "      <td>0.376557</td>\n",
       "    </tr>\n",
       "    <tr>\n",
       "      <th>std</th>\n",
       "      <td>1.056365e+06</td>\n",
       "      <td>24702.368634</td>\n",
       "      <td>75.816001</td>\n",
       "      <td>0.072052</td>\n",
       "      <td>0.049474</td>\n",
       "      <td>0.052618</td>\n",
       "      <td>0.055253</td>\n",
       "      <td>0.105361</td>\n",
       "    </tr>\n",
       "    <tr>\n",
       "      <th>min</th>\n",
       "      <td>1.235000e+04</td>\n",
       "      <td>56.000000</td>\n",
       "      <td>29001.000000</td>\n",
       "      <td>0.024000</td>\n",
       "      <td>0.017000</td>\n",
       "      <td>0.026000</td>\n",
       "      <td>0.098000</td>\n",
       "      <td>0.155000</td>\n",
       "    </tr>\n",
       "    <tr>\n",
       "      <th>25%</th>\n",
       "      <td>7.031000e+04</td>\n",
       "      <td>839.000000</td>\n",
       "      <td>29058.000000</td>\n",
       "      <td>0.082000</td>\n",
       "      <td>0.096500</td>\n",
       "      <td>0.112500</td>\n",
       "      <td>0.176000</td>\n",
       "      <td>0.310500</td>\n",
       "    </tr>\n",
       "    <tr>\n",
       "      <th>50%</th>\n",
       "      <td>1.485150e+05</td>\n",
       "      <td>2087.000000</td>\n",
       "      <td>29115.000000</td>\n",
       "      <td>0.128000</td>\n",
       "      <td>0.121000</td>\n",
       "      <td>0.156000</td>\n",
       "      <td>0.210000</td>\n",
       "      <td>0.371000</td>\n",
       "    </tr>\n",
       "    <tr>\n",
       "      <th>75%</th>\n",
       "      <td>2.950730e+05</td>\n",
       "      <td>4304.000000</td>\n",
       "      <td>29172.000000</td>\n",
       "      <td>0.166000</td>\n",
       "      <td>0.148500</td>\n",
       "      <td>0.176000</td>\n",
       "      <td>0.250000</td>\n",
       "      <td>0.426000</td>\n",
       "    </tr>\n",
       "    <tr>\n",
       "      <th>max</th>\n",
       "      <td>9.233278e+06</td>\n",
       "      <td>251422.000000</td>\n",
       "      <td>29510.000000</td>\n",
       "      <td>0.419000</td>\n",
       "      <td>0.285000</td>\n",
       "      <td>0.363000</td>\n",
       "      <td>0.345000</td>\n",
       "      <td>0.726000</td>\n",
       "    </tr>\n",
       "  </tbody>\n",
       "</table>\n",
       "</div>"
      ],
      "text/plain": [
       "              cases         deaths          fips  masks_never  masks_rarely  \\\n",
       "count  1.170000e+02     117.000000    115.000000   115.000000    115.000000   \n",
       "mean   4.430294e+05    7055.316239  29117.713043     0.134061      0.127165   \n",
       "std    1.056365e+06   24702.368634     75.816001     0.072052      0.049474   \n",
       "min    1.235000e+04      56.000000  29001.000000     0.024000      0.017000   \n",
       "25%    7.031000e+04     839.000000  29058.000000     0.082000      0.096500   \n",
       "50%    1.485150e+05    2087.000000  29115.000000     0.128000      0.121000   \n",
       "75%    2.950730e+05    4304.000000  29172.000000     0.166000      0.148500   \n",
       "max    9.233278e+06  251422.000000  29510.000000     0.419000      0.285000   \n",
       "\n",
       "       masks_sometimes  masks_frequently  masks_always  \n",
       "count       115.000000        115.000000    115.000000  \n",
       "mean          0.151652          0.210539      0.376557  \n",
       "std           0.052618          0.055253      0.105361  \n",
       "min           0.026000          0.098000      0.155000  \n",
       "25%           0.112500          0.176000      0.310500  \n",
       "50%           0.156000          0.210000      0.371000  \n",
       "75%           0.176000          0.250000      0.426000  \n",
       "max           0.363000          0.345000      0.726000  "
      ]
     },
     "execution_count": 2,
     "metadata": {},
     "output_type": "execute_result"
    }
   ],
   "source": [
    "d = pd.read_csv('https://raw.githubusercontent.com/brendanrbrown/stor155_sp21/main/project/CV/CV_95.csv')\n",
    "d.describe()"
   ]
  },
  {
   "cell_type": "code",
   "execution_count": 3,
   "metadata": {},
   "outputs": [
    {
     "data": {
      "text/html": [
       "<div>\n",
       "<style scoped>\n",
       "    .dataframe tbody tr th:only-of-type {\n",
       "        vertical-align: middle;\n",
       "    }\n",
       "\n",
       "    .dataframe tbody tr th {\n",
       "        vertical-align: top;\n",
       "    }\n",
       "\n",
       "    .dataframe thead th {\n",
       "        text-align: right;\n",
       "    }\n",
       "</style>\n",
       "<table border=\"1\" class=\"dataframe\">\n",
       "  <thead>\n",
       "    <tr style=\"text-align: right;\">\n",
       "      <th></th>\n",
       "      <th>CPMNACNSAB1GQIE</th>\n",
       "      <th>LREPTTFEIEQ156N</th>\n",
       "      <th>LREPTTMAIEQ156N</th>\n",
       "    </tr>\n",
       "  </thead>\n",
       "  <tbody>\n",
       "    <tr>\n",
       "      <th>count</th>\n",
       "      <td>62.000000</td>\n",
       "      <td>62.000000</td>\n",
       "      <td>62.000000</td>\n",
       "    </tr>\n",
       "    <tr>\n",
       "      <th>mean</th>\n",
       "      <td>40118.029032</td>\n",
       "      <td>38.963494</td>\n",
       "      <td>51.117751</td>\n",
       "    </tr>\n",
       "    <tr>\n",
       "      <th>std</th>\n",
       "      <td>7296.561203</td>\n",
       "      <td>2.363283</td>\n",
       "      <td>4.445867</td>\n",
       "    </tr>\n",
       "    <tr>\n",
       "      <th>min</th>\n",
       "      <td>22466.700000</td>\n",
       "      <td>33.994485</td>\n",
       "      <td>43.648137</td>\n",
       "    </tr>\n",
       "    <tr>\n",
       "      <th>25%</th>\n",
       "      <td>35424.175000</td>\n",
       "      <td>37.703989</td>\n",
       "      <td>46.515986</td>\n",
       "    </tr>\n",
       "    <tr>\n",
       "      <th>50%</th>\n",
       "      <td>42204.900000</td>\n",
       "      <td>38.440469</td>\n",
       "      <td>52.874529</td>\n",
       "    </tr>\n",
       "    <tr>\n",
       "      <th>75%</th>\n",
       "      <td>45121.875000</td>\n",
       "      <td>40.062060</td>\n",
       "      <td>54.151280</td>\n",
       "    </tr>\n",
       "    <tr>\n",
       "      <th>max</th>\n",
       "      <td>50599.600000</td>\n",
       "      <td>44.470923</td>\n",
       "      <td>58.628733</td>\n",
       "    </tr>\n",
       "  </tbody>\n",
       "</table>\n",
       "</div>"
      ],
      "text/plain": [
       "       CPMNACNSAB1GQIE  LREPTTFEIEQ156N  LREPTTMAIEQ156N\n",
       "count        62.000000        62.000000        62.000000\n",
       "mean      40118.029032        38.963494        51.117751\n",
       "std        7296.561203         2.363283         4.445867\n",
       "min       22466.700000        33.994485        43.648137\n",
       "25%       35424.175000        37.703989        46.515986\n",
       "50%       42204.900000        38.440469        52.874529\n",
       "75%       45121.875000        40.062060        54.151280\n",
       "max       50599.600000        44.470923        58.628733"
      ]
     },
     "execution_count": 3,
     "metadata": {},
     "output_type": "execute_result"
    }
   ],
   "source": [
    "fred = pd.read_csv('https://raw.githubusercontent.com/brendanrbrown/stor155_sp21/main/project/FRED/FRED_95.csv')\n",
    "fred.describe()"
   ]
  },
  {
   "cell_type": "markdown",
   "metadata": {},
   "source": [
    "# Q1 (2.5 points)"
   ]
  },
  {
   "cell_type": "code",
   "execution_count": 4,
   "metadata": {},
   "outputs": [],
   "source": [
    "fred = fred.rename(columns={\"CPMNACNSAB1GQIE\": \"IrelandGDP\", \"LREPTTFEIEQ156N\": \"EmploymentPopFemalesIreland\",\n",
    "                     \"LREPTTMAIEQ156N\": \"EmploymentPopMalesIreland\"})"
   ]
  },
  {
   "cell_type": "code",
   "execution_count": 117,
   "metadata": {},
   "outputs": [
    {
     "data": {
      "text/html": [
       "<div>\n",
       "<style scoped>\n",
       "    .dataframe tbody tr th:only-of-type {\n",
       "        vertical-align: middle;\n",
       "    }\n",
       "\n",
       "    .dataframe tbody tr th {\n",
       "        vertical-align: top;\n",
       "    }\n",
       "\n",
       "    .dataframe thead th {\n",
       "        text-align: right;\n",
       "    }\n",
       "</style>\n",
       "<table border=\"1\" class=\"dataframe\">\n",
       "  <thead>\n",
       "    <tr style=\"text-align: right;\">\n",
       "      <th></th>\n",
       "      <th>IrelandGDP</th>\n",
       "      <th>EmploymentPopFemalesIreland</th>\n",
       "      <th>EmploymentPopMalesIreland</th>\n",
       "    </tr>\n",
       "  </thead>\n",
       "  <tbody>\n",
       "    <tr>\n",
       "      <th>count</th>\n",
       "      <td>62.000000</td>\n",
       "      <td>62.000000</td>\n",
       "      <td>62.000000</td>\n",
       "    </tr>\n",
       "    <tr>\n",
       "      <th>mean</th>\n",
       "      <td>40118.029032</td>\n",
       "      <td>38.963494</td>\n",
       "      <td>51.117751</td>\n",
       "    </tr>\n",
       "    <tr>\n",
       "      <th>std</th>\n",
       "      <td>7296.561203</td>\n",
       "      <td>2.363283</td>\n",
       "      <td>4.445867</td>\n",
       "    </tr>\n",
       "    <tr>\n",
       "      <th>min</th>\n",
       "      <td>22466.700000</td>\n",
       "      <td>33.994485</td>\n",
       "      <td>43.648137</td>\n",
       "    </tr>\n",
       "    <tr>\n",
       "      <th>25%</th>\n",
       "      <td>35424.175000</td>\n",
       "      <td>37.703989</td>\n",
       "      <td>46.515986</td>\n",
       "    </tr>\n",
       "    <tr>\n",
       "      <th>50%</th>\n",
       "      <td>42204.900000</td>\n",
       "      <td>38.440469</td>\n",
       "      <td>52.874529</td>\n",
       "    </tr>\n",
       "    <tr>\n",
       "      <th>75%</th>\n",
       "      <td>45121.875000</td>\n",
       "      <td>40.062060</td>\n",
       "      <td>54.151280</td>\n",
       "    </tr>\n",
       "    <tr>\n",
       "      <th>max</th>\n",
       "      <td>50599.600000</td>\n",
       "      <td>44.470923</td>\n",
       "      <td>58.628733</td>\n",
       "    </tr>\n",
       "  </tbody>\n",
       "</table>\n",
       "</div>"
      ],
      "text/plain": [
       "         IrelandGDP  EmploymentPopFemalesIreland  EmploymentPopMalesIreland\n",
       "count     62.000000                    62.000000                  62.000000\n",
       "mean   40118.029032                    38.963494                  51.117751\n",
       "std     7296.561203                     2.363283                   4.445867\n",
       "min    22466.700000                    33.994485                  43.648137\n",
       "25%    35424.175000                    37.703989                  46.515986\n",
       "50%    42204.900000                    38.440469                  52.874529\n",
       "75%    45121.875000                    40.062060                  54.151280\n",
       "max    50599.600000                    44.470923                  58.628733"
      ]
     },
     "execution_count": 117,
     "metadata": {},
     "output_type": "execute_result"
    }
   ],
   "source": [
    "fred.describe()"
   ]
  },
  {
   "cell_type": "markdown",
   "metadata": {},
   "source": [
    "write a brief sentence describing what the dataset includes, touching on:\n",
    "variable types available (numeric, categorical etc)\n",
    "scope in terms of span and frequency in time of your observations, and the geography to which they relate:\n",
    "\n",
    "This dataset includes the GDP and employment rates among all ages of males and females in Ireland. All of these variables are qualitative and numeric. The dates that correspond to the observations is a continious variable. The GDP includes observations from 1995 - 2020 and is updated quarterly. Both the Male and Female employment rate includes observations from 1990 - 2019 and is also updated quarterly. "
   ]
  },
  {
   "cell_type": "markdown",
   "metadata": {},
   "source": [
    "# Q2 (5 points)"
   ]
  },
  {
   "cell_type": "code",
   "execution_count": 42,
   "metadata": {},
   "outputs": [
    {
     "data": {
      "text/plain": [
       "date                           0\n",
       "IrelandGDP                     0\n",
       "EmploymentPopFemalesIreland    0\n",
       "EmploymentPopMalesIreland      0\n",
       "dtype: int64"
      ]
     },
     "execution_count": 42,
     "metadata": {},
     "output_type": "execute_result"
    }
   ],
   "source": [
    "fred.isna().sum()"
   ]
  },
  {
   "cell_type": "code",
   "execution_count": 7,
   "metadata": {},
   "outputs": [
    {
     "name": "stdout",
     "output_type": "stream",
     "text": [
      "IrelandGDP median: \n",
      " 42204.9\n"
     ]
    }
   ],
   "source": [
    "print(\"IrelandGDP median: \\n\", fred.IrelandGDP.median())"
   ]
  },
  {
   "cell_type": "code",
   "execution_count": 8,
   "metadata": {},
   "outputs": [
    {
     "name": "stdout",
     "output_type": "stream",
     "text": [
      "IrelandGDP variance: \n",
      " 53239805.387012154\n"
     ]
    }
   ],
   "source": [
    "print(\"IrelandGDP variance: \\n\", fred.IrelandGDP.var())"
   ]
  },
  {
   "cell_type": "code",
   "execution_count": 9,
   "metadata": {},
   "outputs": [
    {
     "name": "stdout",
     "output_type": "stream",
     "text": [
      "IrelandGDP mean: \n",
      " 40118.02903225807\n"
     ]
    }
   ],
   "source": [
    "print(\"IrelandGDP mean: \\n\", fred.IrelandGDP.mean())"
   ]
  },
  {
   "cell_type": "code",
   "execution_count": 10,
   "metadata": {},
   "outputs": [
    {
     "name": "stdout",
     "output_type": "stream",
     "text": [
      "IrelandGDP range: \n",
      " 28132.899999999998\n"
     ]
    }
   ],
   "source": [
    "print(\"IrelandGDP range: \\n\", fred.IrelandGDP.max()-fred.IrelandGDP.min())"
   ]
  },
  {
   "cell_type": "code",
   "execution_count": 11,
   "metadata": {},
   "outputs": [
    {
     "name": "stdout",
     "output_type": "stream",
     "text": [
      "IrelandGDP 90th quantile: \n",
      " 48053.19\n"
     ]
    }
   ],
   "source": [
    "print(\"IrelandGDP 90th quantile: \\n\", fred.IrelandGDP.quantile(.9))"
   ]
  },
  {
   "cell_type": "code",
   "execution_count": 12,
   "metadata": {},
   "outputs": [
    {
     "name": "stdout",
     "output_type": "stream",
     "text": [
      "EmploymentPopFemalesIreland median: \n",
      " 38.4404687608349\n"
     ]
    }
   ],
   "source": [
    "print(\"EmploymentPopFemalesIreland median: \\n\", fred.EmploymentPopFemalesIreland.median())"
   ]
  },
  {
   "cell_type": "code",
   "execution_count": 13,
   "metadata": {},
   "outputs": [
    {
     "name": "stdout",
     "output_type": "stream",
     "text": [
      "EmploymentPopFemalesIreland variance: \n",
      " 5.585108344577721\n"
     ]
    }
   ],
   "source": [
    "print(\"EmploymentPopFemalesIreland variance: \\n\", fred.EmploymentPopFemalesIreland.var())"
   ]
  },
  {
   "cell_type": "code",
   "execution_count": 14,
   "metadata": {},
   "outputs": [
    {
     "name": "stdout",
     "output_type": "stream",
     "text": [
      "EmploymentPopFemalesIreland mean: \n",
      " 38.963493958926804\n"
     ]
    }
   ],
   "source": [
    "print(\"EmploymentPopFemalesIreland mean: \\n\", fred.EmploymentPopFemalesIreland.mean())"
   ]
  },
  {
   "cell_type": "code",
   "execution_count": 15,
   "metadata": {},
   "outputs": [
    {
     "name": "stdout",
     "output_type": "stream",
     "text": [
      "EmploymentPopFemalesIreland range: \n",
      " 10.47643799163\n"
     ]
    }
   ],
   "source": [
    "print(\"EmploymentPopFemalesIreland range: \\n\", fred.EmploymentPopFemalesIreland.max()-fred.EmploymentPopFemalesIreland.min())"
   ]
  },
  {
   "cell_type": "code",
   "execution_count": 16,
   "metadata": {},
   "outputs": [
    {
     "name": "stdout",
     "output_type": "stream",
     "text": [
      "EmploymentPopFemalesIreland 90th quantile: \n",
      " 43.27064689026885\n"
     ]
    }
   ],
   "source": [
    "print(\"EmploymentPopFemalesIreland 90th quantile: \\n\", fred.EmploymentPopFemalesIreland.quantile(.9))"
   ]
  },
  {
   "cell_type": "code",
   "execution_count": 17,
   "metadata": {},
   "outputs": [
    {
     "name": "stdout",
     "output_type": "stream",
     "text": [
      "EmploymentPopMalesIreland median: \n",
      " 52.8745288193104\n"
     ]
    }
   ],
   "source": [
    "print(\"EmploymentPopMalesIreland median: \\n\", fred.EmploymentPopMalesIreland.median())"
   ]
  },
  {
   "cell_type": "code",
   "execution_count": 18,
   "metadata": {},
   "outputs": [
    {
     "name": "stdout",
     "output_type": "stream",
     "text": [
      "EmploymentPopMalesIreland variance: \n",
      " 19.765731808658582\n"
     ]
    }
   ],
   "source": [
    "print(\"EmploymentPopMalesIreland variance: \\n\", fred.EmploymentPopMalesIreland.var())"
   ]
  },
  {
   "cell_type": "code",
   "execution_count": 19,
   "metadata": {},
   "outputs": [
    {
     "name": "stdout",
     "output_type": "stream",
     "text": [
      "EmploymentPopMalesIreland mean: \n",
      " 51.11775148855422\n"
     ]
    }
   ],
   "source": [
    "print(\"EmploymentPopMalesIreland mean: \\n\", fred.EmploymentPopMalesIreland.mean())"
   ]
  },
  {
   "cell_type": "code",
   "execution_count": 20,
   "metadata": {},
   "outputs": [
    {
     "name": "stdout",
     "output_type": "stream",
     "text": [
      "EmploymentPopMalesIreland range: \n",
      " 14.980596748608399\n"
     ]
    }
   ],
   "source": [
    "print(\"EmploymentPopMalesIreland range: \\n\", fred.EmploymentPopMalesIreland.max()-fred.EmploymentPopMalesIreland.min())"
   ]
  },
  {
   "cell_type": "code",
   "execution_count": 38,
   "metadata": {},
   "outputs": [
    {
     "name": "stdout",
     "output_type": "stream",
     "text": [
      "EmploymentPopMalesIreland 90th quantile: \n",
      " 56.06480089482595\n"
     ]
    }
   ],
   "source": [
    "print(\"EmploymentPopMalesIreland 90th quantile: \\n\", fred.EmploymentPopMalesIreland.quantile(.9))"
   ]
  },
  {
   "cell_type": "markdown",
   "metadata": {},
   "source": [
    " # Q3 (2.5 points)"
   ]
  },
  {
   "cell_type": "code",
   "execution_count": 101,
   "metadata": {},
   "outputs": [
    {
     "data": {
      "text/plain": [
       "<AxesSubplot:title={'center':'Gross Domestic Product for Ireland'}, xlabel='date'>"
      ]
     },
     "execution_count": 101,
     "metadata": {},
     "output_type": "execute_result"
    },
    {
     "data": {
      "image/png": "[encoded data removed]",
      "text/plain": [
       "<Figure size 720x360 with 1 Axes>"
      ]
     },
     "metadata": {
      "needs_background": "light"
     },
     "output_type": "display_data"
    },
    {
     "data": {
      "image/png": "[encoded data removed]",
      "text/plain": [
       "<Figure size 720x360 with 1 Axes>"
      ]
     },
     "metadata": {
      "needs_background": "light"
     },
     "output_type": "display_data"
    },
    {
     "data": {
      "image/png": "[encoded data removed]",
      "text/plain": [
       "<Figure size 720x360 with 1 Axes>"
      ]
     },
     "metadata": {
      "needs_background": "light"
     },
     "output_type": "display_data"
    }
   ],
   "source": [
    "fred.plot(x= 'date', y=['EmploymentPopMalesIreland'], style='.', color = 'red', figsize=(10,5), title = 'Employment to Population Rate: All Ages: Males for Ireland')\n",
    "fred.plot(x= 'date', y=['EmploymentPopFemalesIreland'], style='.', figsize=(10,5), title = 'Employment to Population Rate: All Ages: Females for Ireland')\n",
    "fred.plot(x= 'date', y=['IrelandGDP'], style='.', color = 'black', figsize=(10,5), title = 'Gross Domestic Product for Ireland')"
   ]
  },
  {
   "cell_type": "markdown",
   "metadata": {},
   "source": [
    "# Q4 (10 points)"
   ]
  },
  {
   "cell_type": "code",
   "execution_count": 118,
   "metadata": {},
   "outputs": [
    {
     "data": {
      "text/plain": [
       "<AxesSubplot:title={'center':'Correlation Between Change in Male Employment and Change in Female Employment in Ireland (1990-2019)'}, xlabel='changeFemales', ylabel='changeMales'>"
      ]
     },
     "execution_count": 118,
     "metadata": {},
     "output_type": "execute_result"
    },
    {
     "data": {
      "image/png": "[encoded data removed]",
      "text/plain": [
       "<Figure size 720x504 with 1 Axes>"
      ]
     },
     "metadata": {
      "needs_background": "light"
     },
     "output_type": "display_data"
    }
   ],
   "source": [
    "df = fred.assign(changeGDP = fred.IrelandGDP.diff(), changeMales = fred.EmploymentPopMalesIreland.diff(), changeFemales = fred.EmploymentPopFemalesIreland.diff())\n",
    "df.plot(kind = 'scatter', x = 'changeFemales', y = 'changeMales', color = 'black', figsize=(10,7), title = 'Correlation Between Change in Male Employment and Change in Female Employment in Ireland (1990-2019)')"
   ]
  },
  {
   "cell_type": "markdown",
   "metadata": {},
   "source": [
    "# Q5 (10 points)"
   ]
  },
  {
   "cell_type": "markdown",
   "metadata": {},
   "source": [
    "The above plot shows a strong postive linear correlation between the change in Female employment rate (all ages in Ireland) and the change in Male employment rate (all ages in Ireland). As time increases, both variables increase, resulting in the image of a positive correlation. "
   ]
  },
  {
   "cell_type": "markdown",
   "metadata": {},
   "source": [
    "# Q6 (10 points)"
   ]
  },
  {
   "cell_type": "code",
   "execution_count": 110,
   "metadata": {},
   "outputs": [
    {
     "data": {
      "text/plain": [
       "'Correlation between GDP and Males -0.12484327157795777 Correlation between GDP and Females 0.7880555380686635 Correlation between Males and Females 0.3799314580229729'"
      ]
     },
     "execution_count": 110,
     "metadata": {},
     "output_type": "execute_result"
    }
   ],
   "source": [
    "f'Correlation between GDP and Males {fred.IrelandGDP.corr(fred.EmploymentPopMalesIreland)} Correlation between GDP and Females {fred.IrelandGDP.corr(fred.EmploymentPopFemalesIreland)} Correlation between Males and Females {fred.EmploymentPopMalesIreland.corr(fred.EmploymentPopFemalesIreland)}'"
   ]
  },
  {
   "cell_type": "code",
   "execution_count": 112,
   "metadata": {},
   "outputs": [
    {
     "data": {
      "text/plain": [
       "'Correlation between GDP and change in Males -0.09309377124306814 Correlation between GDP and change in Females -0.09620009670553198 Correlation between GDP and change in GDP -0.11622061858645494'"
      ]
     },
     "execution_count": 112,
     "metadata": {},
     "output_type": "execute_result"
    }
   ],
   "source": [
    "f'Correlation between GDP and change in Males {fred.IrelandGDP.corr(df.changeMales)} Correlation between GDP and change in Females {fred.IrelandGDP.corr(df.changeFemales)} Correlation between GDP and change in GDP {fred.IrelandGDP.corr(df.changeGDP)}'"
   ]
  },
  {
   "cell_type": "code",
   "execution_count": 114,
   "metadata": {},
   "outputs": [
    {
     "data": {
      "text/plain": [
       "'Correlation between Males and change in Males 0.13371717270551448 Correlation between Males and change in Females 0.2848323504404622 Correlation between Males and change in GDP 0.05215840165397753'"
      ]
     },
     "execution_count": 114,
     "metadata": {},
     "output_type": "execute_result"
    }
   ],
   "source": [
    "f'Correlation between Males and change in Males {fred.EmploymentPopMalesIreland.corr(df.changeMales)} Correlation between Males and change in Females {fred.EmploymentPopMalesIreland.corr(df.changeFemales)} Correlation between Males and change in GDP {fred.EmploymentPopMalesIreland.corr(df.changeGDP)}'"
   ]
  },
  {
   "cell_type": "code",
   "execution_count": 115,
   "metadata": {},
   "outputs": [
    {
     "data": {
      "text/plain": [
       "'Correlation between Females and change in Males -0.12573378040991937 Correlation between Females and change in Females 0.02430242231347556 Correlation between Females and change in GDP -0.3042660097837182'"
      ]
     },
     "execution_count": 115,
     "metadata": {},
     "output_type": "execute_result"
    }
   ],
   "source": [
    "f'Correlation between Females and change in Males {fred.EmploymentPopFemalesIreland.corr(df.changeMales)} Correlation between Females and change in Females {fred.EmploymentPopFemalesIreland.corr(df.changeFemales)} Correlation between Females and change in GDP {fred.EmploymentPopFemalesIreland.corr(df.changeGDP)}'"
   ]
  },
  {
   "cell_type": "markdown",
   "metadata": {},
   "source": [
    "in two or three sentences, explain why these correlations do or do not make sense relative to the plots created in Q4, Q3:\n",
    "\n",
    "The above corrrelations do make sense with the plots in Q3 and Q4. In Q3, all three plots follow a similar sinusoidal shape. Since they all share that same rough shape, they will have a strong positive correlation to each other, as is seen in Q4. "
   ]
  },
  {
   "cell_type": "markdown",
   "metadata": {},
   "source": [
    "\n",
    "# Part two (60 points): NYT coronavirus data"
   ]
  },
  {
   "cell_type": "markdown",
   "metadata": {},
   "source": [
    "# Q1 (10 points)"
   ]
  },
  {
   "cell_type": "code",
   "execution_count": 130,
   "metadata": {},
   "outputs": [
    {
     "data": {
      "text/plain": [
       "<AxesSubplot:title={'center':'Frequency of Cases of COVID-19 in US Counties'}, ylabel='Frequency'>"
      ]
     },
     "execution_count": 130,
     "metadata": {},
     "output_type": "execute_result"
    },
    {
     "data": {
      "image/png": "[encoded data removed]",
      "text/plain": [
       "<Figure size 720x360 with 1 Axes>"
      ]
     },
     "metadata": {
      "needs_background": "light"
     },
     "output_type": "display_data"
    }
   ],
   "source": [
    "d.cases.plot.hist(bins=50, figsize=(10,5), color = 'red', title = 'Frequency of Cases of COVID-19 in US Counties')"
   ]
  },
  {
   "cell_type": "code",
   "execution_count": 122,
   "metadata": {},
   "outputs": [
    {
     "data": {
      "text/plain": [
       "<AxesSubplot:title={'center':'Frequency of Deaths due to COVID-19 in US Counties'}, ylabel='Frequency'>"
      ]
     },
     "execution_count": 122,
     "metadata": {},
     "output_type": "execute_result"
    },
    {
     "data": {
      "image/png": "[encoded data removed]",
      "text/plain": [
       "<Figure size 720x360 with 1 Axes>"
      ]
     },
     "metadata": {
      "needs_background": "light"
     },
     "output_type": "display_data"
    }
   ],
   "source": [
    "d.deaths.plot.hist(bins= 75, figsize=(10,5), color = 'black', title = 'Frequency of Deaths due to COVID-19 in US Counties')"
   ]
  },
  {
   "cell_type": "markdown",
   "metadata": {},
   "source": [
    "# Q2 (5 points)"
   ]
  },
  {
   "cell_type": "code",
   "execution_count": 25,
   "metadata": {},
   "outputs": [
    {
     "data": {
      "text/plain": [
       "'Cases mean 443029.3846153846 Cases median 148515.0 Cases Variance 1115907530136.6526 Cases 25 Quantile 70310.0 Case 75 quantile295073.0 Cases range 9220928'"
      ]
     },
     "execution_count": 25,
     "metadata": {},
     "output_type": "execute_result"
    }
   ],
   "source": [
    "f'Cases mean {d.cases.mean()} Cases median {d.cases.median()} Cases Variance {d.cases.var()} Cases 25 Quantile {d.cases.quantile(.25)} Case 75 quantile{d.cases.quantile(.75)} Cases range {d.cases.max()-d.cases.min()}'"
   ]
  },
  {
   "cell_type": "code",
   "execution_count": 26,
   "metadata": {},
   "outputs": [
    {
     "data": {
      "text/plain": [
       "'Deaths mean 7055.316239316239 Deaths median 2087.0 Deaths Variance 610207016.1146481 Deaths 25 Quantile 839.0 Deaths 75 quantile 4304.0 Deaths range 251366.0'"
      ]
     },
     "execution_count": 26,
     "metadata": {},
     "output_type": "execute_result"
    }
   ],
   "source": [
    "f'Deaths mean {d.deaths.mean()} Deaths median {d.deaths.median()} Deaths Variance {d.deaths.var()} Deaths 25 Quantile {d.deaths.quantile(.25)} Deaths 75 quantile {d.deaths.quantile(.75)} Deaths range {d.deaths.max()-d.deaths.min()}'"
   ]
  },
  {
   "cell_type": "markdown",
   "metadata": {},
   "source": [
    "in a sentence or two, compare these statistics with the histograms and explain exactly why they do or do not make sense, using concepts from class and the definitions of those statistics:\n",
    "\n",
    "The above stats corresond with the histograms because they both show a clumping of data in the left part of the graph, or 25 quartile in this case. It also shows that the majority of counties are not experiencing massive rates of new cases or death due to COVID-19; however, the counties that do have high case counts and deaths have extremely high rates."
   ]
  },
  {
   "cell_type": "markdown",
   "metadata": {},
   "source": [
    "# Q3 (5 points)"
   ]
  },
  {
   "cell_type": "code",
   "execution_count": 28,
   "metadata": {},
   "outputs": [
    {
     "data": {
      "text/html": [
       "<div>\n",
       "<style scoped>\n",
       "    .dataframe tbody tr th:only-of-type {\n",
       "        vertical-align: middle;\n",
       "    }\n",
       "\n",
       "    .dataframe tbody tr th {\n",
       "        vertical-align: top;\n",
       "    }\n",
       "\n",
       "    .dataframe thead th {\n",
       "        text-align: right;\n",
       "    }\n",
       "</style>\n",
       "<table border=\"1\" class=\"dataframe\">\n",
       "  <thead>\n",
       "    <tr style=\"text-align: right;\">\n",
       "      <th></th>\n",
       "      <th>county</th>\n",
       "      <th>state</th>\n",
       "      <th>cases</th>\n",
       "      <th>deaths</th>\n",
       "      <th>last_record_on</th>\n",
       "      <th>fips</th>\n",
       "      <th>masks_never</th>\n",
       "      <th>masks_rarely</th>\n",
       "      <th>masks_sometimes</th>\n",
       "      <th>masks_frequently</th>\n",
       "      <th>masks_always</th>\n",
       "      <th>masks_check</th>\n",
       "    </tr>\n",
       "  </thead>\n",
       "  <tbody>\n",
       "    <tr>\n",
       "      <th>0</th>\n",
       "      <td>adair</td>\n",
       "      <td>missouri</td>\n",
       "      <td>197383</td>\n",
       "      <td>862.0</td>\n",
       "      <td>2021-02-12</td>\n",
       "      <td>29001.0</td>\n",
       "      <td>0.067</td>\n",
       "      <td>0.098</td>\n",
       "      <td>0.187</td>\n",
       "      <td>0.253</td>\n",
       "      <td>0.395</td>\n",
       "      <td>1.000</td>\n",
       "    </tr>\n",
       "    <tr>\n",
       "      <th>1</th>\n",
       "      <td>andrew</td>\n",
       "      <td>missouri</td>\n",
       "      <td>125390</td>\n",
       "      <td>1555.0</td>\n",
       "      <td>2021-02-12</td>\n",
       "      <td>29003.0</td>\n",
       "      <td>0.133</td>\n",
       "      <td>0.197</td>\n",
       "      <td>0.164</td>\n",
       "      <td>0.234</td>\n",
       "      <td>0.272</td>\n",
       "      <td>1.000</td>\n",
       "    </tr>\n",
       "    <tr>\n",
       "      <th>2</th>\n",
       "      <td>atchison</td>\n",
       "      <td>missouri</td>\n",
       "      <td>28738</td>\n",
       "      <td>433.0</td>\n",
       "      <td>2021-02-12</td>\n",
       "      <td>29005.0</td>\n",
       "      <td>0.090</td>\n",
       "      <td>0.144</td>\n",
       "      <td>0.097</td>\n",
       "      <td>0.287</td>\n",
       "      <td>0.382</td>\n",
       "      <td>1.000</td>\n",
       "    </tr>\n",
       "    <tr>\n",
       "      <th>3</th>\n",
       "      <td>audrain</td>\n",
       "      <td>missouri</td>\n",
       "      <td>221438</td>\n",
       "      <td>3532.0</td>\n",
       "      <td>2021-02-12</td>\n",
       "      <td>29007.0</td>\n",
       "      <td>0.110</td>\n",
       "      <td>0.078</td>\n",
       "      <td>0.203</td>\n",
       "      <td>0.281</td>\n",
       "      <td>0.327</td>\n",
       "      <td>0.999</td>\n",
       "    </tr>\n",
       "    <tr>\n",
       "      <th>4</th>\n",
       "      <td>barry</td>\n",
       "      <td>missouri</td>\n",
       "      <td>221965</td>\n",
       "      <td>3812.0</td>\n",
       "      <td>2021-02-12</td>\n",
       "      <td>29009.0</td>\n",
       "      <td>0.106</td>\n",
       "      <td>0.060</td>\n",
       "      <td>0.256</td>\n",
       "      <td>0.235</td>\n",
       "      <td>0.343</td>\n",
       "      <td>1.000</td>\n",
       "    </tr>\n",
       "  </tbody>\n",
       "</table>\n",
       "</div>"
      ],
      "text/plain": [
       "     county     state   cases  deaths last_record_on     fips  masks_never  \\\n",
       "0     adair  missouri  197383   862.0     2021-02-12  29001.0        0.067   \n",
       "1    andrew  missouri  125390  1555.0     2021-02-12  29003.0        0.133   \n",
       "2  atchison  missouri   28738   433.0     2021-02-12  29005.0        0.090   \n",
       "3   audrain  missouri  221438  3532.0     2021-02-12  29007.0        0.110   \n",
       "4     barry  missouri  221965  3812.0     2021-02-12  29009.0        0.106   \n",
       "\n",
       "   masks_rarely  masks_sometimes  masks_frequently  masks_always  masks_check  \n",
       "0         0.098            0.187             0.253         0.395        1.000  \n",
       "1         0.197            0.164             0.234         0.272        1.000  \n",
       "2         0.144            0.097             0.287         0.382        1.000  \n",
       "3         0.078            0.203             0.281         0.327        0.999  \n",
       "4         0.060            0.256             0.235         0.343        1.000  "
      ]
     },
     "execution_count": 28,
     "metadata": {},
     "output_type": "execute_result"
    }
   ],
   "source": [
    "d['masks_check'] = d['masks_never'] + d['masks_always'] + d['masks_sometimes'] + d['masks_frequently'] + d['masks_rarely']\n",
    "d.head()"
   ]
  },
  {
   "cell_type": "code",
   "execution_count": 37,
   "metadata": {},
   "outputs": [
    {
     "data": {
      "text/plain": [
       "False    65\n",
       "True     52\n",
       "Name: Sum1, dtype: int64"
      ]
     },
     "execution_count": 37,
     "metadata": {},
     "output_type": "execute_result"
    }
   ],
   "source": [
    "d.loc[d['masks_check'] == 1, 'Sum1'] = 'True' \n",
    "d.loc[d['masks_check'] != 1, 'Sum1'] = 'False'\n",
    "d.Sum1.value_counts()"
   ]
  },
  {
   "cell_type": "markdown",
   "metadata": {},
   "source": [
    "# Q4 (10 points)"
   ]
  },
  {
   "cell_type": "code",
   "execution_count": 30,
   "metadata": {},
   "outputs": [
    {
     "data": {
      "text/html": [
       "<div>\n",
       "<style scoped>\n",
       "    .dataframe tbody tr th:only-of-type {\n",
       "        vertical-align: middle;\n",
       "    }\n",
       "\n",
       "    .dataframe tbody tr th {\n",
       "        vertical-align: top;\n",
       "    }\n",
       "\n",
       "    .dataframe thead th {\n",
       "        text-align: right;\n",
       "    }\n",
       "</style>\n",
       "<table border=\"1\" class=\"dataframe\">\n",
       "  <thead>\n",
       "    <tr style=\"text-align: right;\">\n",
       "      <th></th>\n",
       "      <th>county</th>\n",
       "      <th>state</th>\n",
       "      <th>cases</th>\n",
       "      <th>deaths</th>\n",
       "      <th>last_record_on</th>\n",
       "      <th>fips</th>\n",
       "      <th>masks_never</th>\n",
       "      <th>masks_rarely</th>\n",
       "      <th>masks_sometimes</th>\n",
       "      <th>masks_frequently</th>\n",
       "      <th>masks_always</th>\n",
       "      <th>masks_check</th>\n",
       "      <th>Sum to 1?</th>\n",
       "      <th>masks_use</th>\n",
       "    </tr>\n",
       "  </thead>\n",
       "  <tbody>\n",
       "    <tr>\n",
       "      <th>0</th>\n",
       "      <td>adair</td>\n",
       "      <td>missouri</td>\n",
       "      <td>197383</td>\n",
       "      <td>862.0</td>\n",
       "      <td>2021-02-12</td>\n",
       "      <td>29001.0</td>\n",
       "      <td>0.067</td>\n",
       "      <td>0.098</td>\n",
       "      <td>0.187</td>\n",
       "      <td>0.253</td>\n",
       "      <td>0.395</td>\n",
       "      <td>1.000</td>\n",
       "      <td>True</td>\n",
       "      <td>0.648</td>\n",
       "    </tr>\n",
       "    <tr>\n",
       "      <th>1</th>\n",
       "      <td>andrew</td>\n",
       "      <td>missouri</td>\n",
       "      <td>125390</td>\n",
       "      <td>1555.0</td>\n",
       "      <td>2021-02-12</td>\n",
       "      <td>29003.0</td>\n",
       "      <td>0.133</td>\n",
       "      <td>0.197</td>\n",
       "      <td>0.164</td>\n",
       "      <td>0.234</td>\n",
       "      <td>0.272</td>\n",
       "      <td>1.000</td>\n",
       "      <td>False</td>\n",
       "      <td>0.506</td>\n",
       "    </tr>\n",
       "    <tr>\n",
       "      <th>2</th>\n",
       "      <td>atchison</td>\n",
       "      <td>missouri</td>\n",
       "      <td>28738</td>\n",
       "      <td>433.0</td>\n",
       "      <td>2021-02-12</td>\n",
       "      <td>29005.0</td>\n",
       "      <td>0.090</td>\n",
       "      <td>0.144</td>\n",
       "      <td>0.097</td>\n",
       "      <td>0.287</td>\n",
       "      <td>0.382</td>\n",
       "      <td>1.000</td>\n",
       "      <td>False</td>\n",
       "      <td>0.669</td>\n",
       "    </tr>\n",
       "    <tr>\n",
       "      <th>3</th>\n",
       "      <td>audrain</td>\n",
       "      <td>missouri</td>\n",
       "      <td>221438</td>\n",
       "      <td>3532.0</td>\n",
       "      <td>2021-02-12</td>\n",
       "      <td>29007.0</td>\n",
       "      <td>0.110</td>\n",
       "      <td>0.078</td>\n",
       "      <td>0.203</td>\n",
       "      <td>0.281</td>\n",
       "      <td>0.327</td>\n",
       "      <td>0.999</td>\n",
       "      <td>False</td>\n",
       "      <td>0.608</td>\n",
       "    </tr>\n",
       "    <tr>\n",
       "      <th>4</th>\n",
       "      <td>barry</td>\n",
       "      <td>missouri</td>\n",
       "      <td>221965</td>\n",
       "      <td>3812.0</td>\n",
       "      <td>2021-02-12</td>\n",
       "      <td>29009.0</td>\n",
       "      <td>0.106</td>\n",
       "      <td>0.060</td>\n",
       "      <td>0.256</td>\n",
       "      <td>0.235</td>\n",
       "      <td>0.343</td>\n",
       "      <td>1.000</td>\n",
       "      <td>True</td>\n",
       "      <td>0.578</td>\n",
       "    </tr>\n",
       "  </tbody>\n",
       "</table>\n",
       "</div>"
      ],
      "text/plain": [
       "     county     state   cases  deaths last_record_on     fips  masks_never  \\\n",
       "0     adair  missouri  197383   862.0     2021-02-12  29001.0        0.067   \n",
       "1    andrew  missouri  125390  1555.0     2021-02-12  29003.0        0.133   \n",
       "2  atchison  missouri   28738   433.0     2021-02-12  29005.0        0.090   \n",
       "3   audrain  missouri  221438  3532.0     2021-02-12  29007.0        0.110   \n",
       "4     barry  missouri  221965  3812.0     2021-02-12  29009.0        0.106   \n",
       "\n",
       "   masks_rarely  masks_sometimes  masks_frequently  masks_always  masks_check  \\\n",
       "0         0.098            0.187             0.253         0.395        1.000   \n",
       "1         0.197            0.164             0.234         0.272        1.000   \n",
       "2         0.144            0.097             0.287         0.382        1.000   \n",
       "3         0.078            0.203             0.281         0.327        0.999   \n",
       "4         0.060            0.256             0.235         0.343        1.000   \n",
       "\n",
       "  Sum to 1?  masks_use  \n",
       "0      True      0.648  \n",
       "1     False      0.506  \n",
       "2     False      0.669  \n",
       "3     False      0.608  \n",
       "4      True      0.578  "
      ]
     },
     "execution_count": 30,
     "metadata": {},
     "output_type": "execute_result"
    }
   ],
   "source": [
    "d['masks_use'] = d['masks_always'] + d['masks_frequently']\n",
    "d.head()"
   ]
  },
  {
   "cell_type": "code",
   "execution_count": 31,
   "metadata": {},
   "outputs": [
    {
     "data": {
      "text/plain": [
       "'Correlation between mask use and cases 0.4499800359381999'"
      ]
     },
     "execution_count": 31,
     "metadata": {},
     "output_type": "execute_result"
    }
   ],
   "source": [
    "f'Correlation between mask use and cases {d.masks_use.corr(d.cases)}'"
   ]
  },
  {
   "cell_type": "code",
   "execution_count": 32,
   "metadata": {},
   "outputs": [
    {
     "data": {
      "text/plain": [
       "'Correlation between mask use and deaths 0.37332053834723306'"
      ]
     },
     "execution_count": 32,
     "metadata": {},
     "output_type": "execute_result"
    }
   ],
   "source": [
    "f'Correlation between mask use and deaths {d.masks_use.corr(d.deaths)}'"
   ]
  },
  {
   "cell_type": "markdown",
   "metadata": {},
   "source": [
    "# Q5 (10 points)"
   ]
  },
  {
   "cell_type": "code",
   "execution_count": 33,
   "metadata": {},
   "outputs": [
    {
     "data": {
      "text/html": [
       "<div>\n",
       "<style scoped>\n",
       "    .dataframe tbody tr th:only-of-type {\n",
       "        vertical-align: middle;\n",
       "    }\n",
       "\n",
       "    .dataframe tbody tr th {\n",
       "        vertical-align: top;\n",
       "    }\n",
       "\n",
       "    .dataframe thead th {\n",
       "        text-align: right;\n",
       "    }\n",
       "</style>\n",
       "<table border=\"1\" class=\"dataframe\">\n",
       "  <thead>\n",
       "    <tr style=\"text-align: right;\">\n",
       "      <th></th>\n",
       "      <th>county</th>\n",
       "      <th>state</th>\n",
       "      <th>cases</th>\n",
       "      <th>deaths</th>\n",
       "      <th>last_record_on</th>\n",
       "      <th>fips</th>\n",
       "      <th>masks_never</th>\n",
       "      <th>masks_rarely</th>\n",
       "      <th>masks_sometimes</th>\n",
       "      <th>masks_frequently</th>\n",
       "      <th>masks_always</th>\n",
       "      <th>masks_check</th>\n",
       "      <th>Sum to 1?</th>\n",
       "      <th>masks_use</th>\n",
       "      <th>masks_group</th>\n",
       "    </tr>\n",
       "  </thead>\n",
       "  <tbody>\n",
       "    <tr>\n",
       "      <th>0</th>\n",
       "      <td>adair</td>\n",
       "      <td>missouri</td>\n",
       "      <td>197383</td>\n",
       "      <td>862.0</td>\n",
       "      <td>2021-02-12</td>\n",
       "      <td>29001.0</td>\n",
       "      <td>0.067</td>\n",
       "      <td>0.098</td>\n",
       "      <td>0.187</td>\n",
       "      <td>0.253</td>\n",
       "      <td>0.395</td>\n",
       "      <td>1.000</td>\n",
       "      <td>True</td>\n",
       "      <td>0.648</td>\n",
       "      <td>1.0</td>\n",
       "    </tr>\n",
       "    <tr>\n",
       "      <th>1</th>\n",
       "      <td>andrew</td>\n",
       "      <td>missouri</td>\n",
       "      <td>125390</td>\n",
       "      <td>1555.0</td>\n",
       "      <td>2021-02-12</td>\n",
       "      <td>29003.0</td>\n",
       "      <td>0.133</td>\n",
       "      <td>0.197</td>\n",
       "      <td>0.164</td>\n",
       "      <td>0.234</td>\n",
       "      <td>0.272</td>\n",
       "      <td>1.000</td>\n",
       "      <td>False</td>\n",
       "      <td>0.506</td>\n",
       "      <td>1.0</td>\n",
       "    </tr>\n",
       "    <tr>\n",
       "      <th>2</th>\n",
       "      <td>atchison</td>\n",
       "      <td>missouri</td>\n",
       "      <td>28738</td>\n",
       "      <td>433.0</td>\n",
       "      <td>2021-02-12</td>\n",
       "      <td>29005.0</td>\n",
       "      <td>0.090</td>\n",
       "      <td>0.144</td>\n",
       "      <td>0.097</td>\n",
       "      <td>0.287</td>\n",
       "      <td>0.382</td>\n",
       "      <td>1.000</td>\n",
       "      <td>False</td>\n",
       "      <td>0.669</td>\n",
       "      <td>1.0</td>\n",
       "    </tr>\n",
       "    <tr>\n",
       "      <th>3</th>\n",
       "      <td>audrain</td>\n",
       "      <td>missouri</td>\n",
       "      <td>221438</td>\n",
       "      <td>3532.0</td>\n",
       "      <td>2021-02-12</td>\n",
       "      <td>29007.0</td>\n",
       "      <td>0.110</td>\n",
       "      <td>0.078</td>\n",
       "      <td>0.203</td>\n",
       "      <td>0.281</td>\n",
       "      <td>0.327</td>\n",
       "      <td>0.999</td>\n",
       "      <td>False</td>\n",
       "      <td>0.608</td>\n",
       "      <td>1.0</td>\n",
       "    </tr>\n",
       "    <tr>\n",
       "      <th>4</th>\n",
       "      <td>barry</td>\n",
       "      <td>missouri</td>\n",
       "      <td>221965</td>\n",
       "      <td>3812.0</td>\n",
       "      <td>2021-02-12</td>\n",
       "      <td>29009.0</td>\n",
       "      <td>0.106</td>\n",
       "      <td>0.060</td>\n",
       "      <td>0.256</td>\n",
       "      <td>0.235</td>\n",
       "      <td>0.343</td>\n",
       "      <td>1.000</td>\n",
       "      <td>True</td>\n",
       "      <td>0.578</td>\n",
       "      <td>1.0</td>\n",
       "    </tr>\n",
       "  </tbody>\n",
       "</table>\n",
       "</div>"
      ],
      "text/plain": [
       "     county     state   cases  deaths last_record_on     fips  masks_never  \\\n",
       "0     adair  missouri  197383   862.0     2021-02-12  29001.0        0.067   \n",
       "1    andrew  missouri  125390  1555.0     2021-02-12  29003.0        0.133   \n",
       "2  atchison  missouri   28738   433.0     2021-02-12  29005.0        0.090   \n",
       "3   audrain  missouri  221438  3532.0     2021-02-12  29007.0        0.110   \n",
       "4     barry  missouri  221965  3812.0     2021-02-12  29009.0        0.106   \n",
       "\n",
       "   masks_rarely  masks_sometimes  masks_frequently  masks_always  masks_check  \\\n",
       "0         0.098            0.187             0.253         0.395        1.000   \n",
       "1         0.197            0.164             0.234         0.272        1.000   \n",
       "2         0.144            0.097             0.287         0.382        1.000   \n",
       "3         0.078            0.203             0.281         0.327        0.999   \n",
       "4         0.060            0.256             0.235         0.343        1.000   \n",
       "\n",
       "  Sum to 1?  masks_use  masks_group  \n",
       "0      True      0.648          1.0  \n",
       "1     False      0.506          1.0  \n",
       "2     False      0.669          1.0  \n",
       "3     False      0.608          1.0  \n",
       "4      True      0.578          1.0  "
      ]
     },
     "execution_count": 33,
     "metadata": {},
     "output_type": "execute_result"
    }
   ],
   "source": [
    "d.loc[d['masks_use'] > 0.5, 'masks_group'] = 1 \n",
    "d.loc[d['masks_use'] <= 0.5, 'masks_group'] = 0\n",
    "d.head()"
   ]
  },
  {
   "cell_type": "code",
   "execution_count": 34,
   "metadata": {},
   "outputs": [
    {
     "data": {
      "text/plain": [
       "0.8"
      ]
     },
     "execution_count": 34,
     "metadata": {},
     "output_type": "execute_result"
    }
   ],
   "source": [
    "d['masks_group'].mean()"
   ]
  },
  {
   "cell_type": "markdown",
   "metadata": {},
   "source": [
    "# Q6 (15 points)"
   ]
  },
  {
   "cell_type": "code",
   "execution_count": 35,
   "metadata": {},
   "outputs": [
    {
     "data": {
      "text/html": [
       "<div>\n",
       "<style scoped>\n",
       "    .dataframe tbody tr th:only-of-type {\n",
       "        vertical-align: middle;\n",
       "    }\n",
       "\n",
       "    .dataframe tbody tr th {\n",
       "        vertical-align: top;\n",
       "    }\n",
       "\n",
       "    .dataframe thead th {\n",
       "        text-align: right;\n",
       "    }\n",
       "</style>\n",
       "<table border=\"1\" class=\"dataframe\">\n",
       "  <thead>\n",
       "    <tr style=\"text-align: right;\">\n",
       "      <th></th>\n",
       "      <th>cases</th>\n",
       "      <th>deaths</th>\n",
       "      <th>fips</th>\n",
       "      <th>masks_never</th>\n",
       "      <th>masks_rarely</th>\n",
       "      <th>masks_sometimes</th>\n",
       "      <th>masks_frequently</th>\n",
       "      <th>masks_always</th>\n",
       "      <th>masks_check</th>\n",
       "      <th>masks_use</th>\n",
       "      <th>masks_group</th>\n",
       "    </tr>\n",
       "  </thead>\n",
       "  <tbody>\n",
       "    <tr>\n",
       "      <th>count</th>\n",
       "      <td>1.170000e+02</td>\n",
       "      <td>117.000000</td>\n",
       "      <td>115.000000</td>\n",
       "      <td>115.000000</td>\n",
       "      <td>115.000000</td>\n",
       "      <td>115.000000</td>\n",
       "      <td>115.000000</td>\n",
       "      <td>115.000000</td>\n",
       "      <td>115.000000</td>\n",
       "      <td>115.000000</td>\n",
       "      <td>115.000000</td>\n",
       "    </tr>\n",
       "    <tr>\n",
       "      <th>mean</th>\n",
       "      <td>4.430294e+05</td>\n",
       "      <td>7055.316239</td>\n",
       "      <td>29117.713043</td>\n",
       "      <td>0.134061</td>\n",
       "      <td>0.127165</td>\n",
       "      <td>0.151652</td>\n",
       "      <td>0.210539</td>\n",
       "      <td>0.376557</td>\n",
       "      <td>0.999974</td>\n",
       "      <td>0.587096</td>\n",
       "      <td>0.800000</td>\n",
       "    </tr>\n",
       "    <tr>\n",
       "      <th>std</th>\n",
       "      <td>1.056365e+06</td>\n",
       "      <td>24702.368634</td>\n",
       "      <td>75.816001</td>\n",
       "      <td>0.072052</td>\n",
       "      <td>0.049474</td>\n",
       "      <td>0.052618</td>\n",
       "      <td>0.055253</td>\n",
       "      <td>0.105361</td>\n",
       "      <td>0.000642</td>\n",
       "      <td>0.114780</td>\n",
       "      <td>0.401751</td>\n",
       "    </tr>\n",
       "    <tr>\n",
       "      <th>min</th>\n",
       "      <td>1.235000e+04</td>\n",
       "      <td>56.000000</td>\n",
       "      <td>29001.000000</td>\n",
       "      <td>0.024000</td>\n",
       "      <td>0.017000</td>\n",
       "      <td>0.026000</td>\n",
       "      <td>0.098000</td>\n",
       "      <td>0.155000</td>\n",
       "      <td>0.999000</td>\n",
       "      <td>0.255000</td>\n",
       "      <td>0.000000</td>\n",
       "    </tr>\n",
       "    <tr>\n",
       "      <th>25%</th>\n",
       "      <td>7.031000e+04</td>\n",
       "      <td>839.000000</td>\n",
       "      <td>29058.000000</td>\n",
       "      <td>0.082000</td>\n",
       "      <td>0.096500</td>\n",
       "      <td>0.112500</td>\n",
       "      <td>0.176000</td>\n",
       "      <td>0.310500</td>\n",
       "      <td>1.000000</td>\n",
       "      <td>0.515000</td>\n",
       "      <td>1.000000</td>\n",
       "    </tr>\n",
       "    <tr>\n",
       "      <th>50%</th>\n",
       "      <td>1.485150e+05</td>\n",
       "      <td>2087.000000</td>\n",
       "      <td>29115.000000</td>\n",
       "      <td>0.128000</td>\n",
       "      <td>0.121000</td>\n",
       "      <td>0.156000</td>\n",
       "      <td>0.210000</td>\n",
       "      <td>0.371000</td>\n",
       "      <td>1.000000</td>\n",
       "      <td>0.581000</td>\n",
       "      <td>1.000000</td>\n",
       "    </tr>\n",
       "    <tr>\n",
       "      <th>75%</th>\n",
       "      <td>2.950730e+05</td>\n",
       "      <td>4304.000000</td>\n",
       "      <td>29172.000000</td>\n",
       "      <td>0.166000</td>\n",
       "      <td>0.148500</td>\n",
       "      <td>0.176000</td>\n",
       "      <td>0.250000</td>\n",
       "      <td>0.426000</td>\n",
       "      <td>1.000000</td>\n",
       "      <td>0.660500</td>\n",
       "      <td>1.000000</td>\n",
       "    </tr>\n",
       "    <tr>\n",
       "      <th>max</th>\n",
       "      <td>9.233278e+06</td>\n",
       "      <td>251422.000000</td>\n",
       "      <td>29510.000000</td>\n",
       "      <td>0.419000</td>\n",
       "      <td>0.285000</td>\n",
       "      <td>0.363000</td>\n",
       "      <td>0.345000</td>\n",
       "      <td>0.726000</td>\n",
       "      <td>1.001000</td>\n",
       "      <td>0.879000</td>\n",
       "      <td>1.000000</td>\n",
       "    </tr>\n",
       "  </tbody>\n",
       "</table>\n",
       "</div>"
      ],
      "text/plain": [
       "              cases         deaths          fips  masks_never  masks_rarely  \\\n",
       "count  1.170000e+02     117.000000    115.000000   115.000000    115.000000   \n",
       "mean   4.430294e+05    7055.316239  29117.713043     0.134061      0.127165   \n",
       "std    1.056365e+06   24702.368634     75.816001     0.072052      0.049474   \n",
       "min    1.235000e+04      56.000000  29001.000000     0.024000      0.017000   \n",
       "25%    7.031000e+04     839.000000  29058.000000     0.082000      0.096500   \n",
       "50%    1.485150e+05    2087.000000  29115.000000     0.128000      0.121000   \n",
       "75%    2.950730e+05    4304.000000  29172.000000     0.166000      0.148500   \n",
       "max    9.233278e+06  251422.000000  29510.000000     0.419000      0.285000   \n",
       "\n",
       "       masks_sometimes  masks_frequently  masks_always  masks_check  \\\n",
       "count       115.000000        115.000000    115.000000   115.000000   \n",
       "mean          0.151652          0.210539      0.376557     0.999974   \n",
       "std           0.052618          0.055253      0.105361     0.000642   \n",
       "min           0.026000          0.098000      0.155000     0.999000   \n",
       "25%           0.112500          0.176000      0.310500     1.000000   \n",
       "50%           0.156000          0.210000      0.371000     1.000000   \n",
       "75%           0.176000          0.250000      0.426000     1.000000   \n",
       "max           0.363000          0.345000      0.726000     1.001000   \n",
       "\n",
       "        masks_use  masks_group  \n",
       "count  115.000000   115.000000  \n",
       "mean     0.587096     0.800000  \n",
       "std      0.114780     0.401751  \n",
       "min      0.255000     0.000000  \n",
       "25%      0.515000     1.000000  \n",
       "50%      0.581000     1.000000  \n",
       "75%      0.660500     1.000000  \n",
       "max      0.879000     1.000000  "
      ]
     },
     "execution_count": 35,
     "metadata": {},
     "output_type": "execute_result"
    }
   ],
   "source": [
    "d.describe()"
   ]
  },
  {
   "cell_type": "markdown",
   "metadata": {},
   "source": [
    "# Q7 (5 points)"
   ]
  },
  {
   "cell_type": "markdown",
   "metadata": {},
   "source": [
    "briefly compare, in two or three sentences, your results from Q6 and Q4\n",
    "state clearly why they do or do not make sense together, using concepts from class:\n",
    "\n",
    "From Q6, we saw that the population surveyed reported wearing a mask always or frequently accounted for more than half of the total surveyed population in an average of 80% of the locations. Q4 shows that there is less of a correlation between cases of COVID-19 and deaths among individuals that report wearing a mask always or frequently, meaning that they are still suceptible to contracting the virus and dying (As evident by the positive correlation), but it is not as likely since the correlation is closer to 1/2 rather than 1. These findings do make sense together because it shows more cases and deaths among those that report wearing a mask never, rarely, or only sometimes as compared to the rates of cases and deaths among those that report wearing a mask always or frequently."
   ]
  },
  {
   "cell_type": "code",
   "execution_count": null,
   "metadata": {},
   "outputs": [],
   "source": []
  }
 ],
 "metadata": {
  "kernelspec": {
   "display_name": "Python 3",
   "language": "python",
   "name": "python3"
  },
  "language_info": {
   "codemirror_mode": {
    "name": "ipython",
    "version": 3
   },
   "file_extension": ".py",
   "mimetype": "text/x-python",
   "name": "python",
   "nbconvert_exporter": "python",
   "pygments_lexer": "ipython3",
   "version": "3.8.5"
  }
 },
 "nbformat": 4,
 "nbformat_minor": 4
}
