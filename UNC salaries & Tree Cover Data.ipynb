{
 "cells": [
  {
   "cell_type": "code",
   "execution_count": 1,
   "metadata": {},
   "outputs": [],
   "source": [
    "#Final\n",
    "#Kaylee Tackett\n",
    "import pandas as pd\n",
    "import numpy as np\n",
    "import scipy.stats as stats\n",
    "from pandas import DataFrame\n",
    "sal = pd.read_csv('https://raw.githubusercontent.com/brendanrbrown/stor155_sp21/main/final_project/salaries/salaries.csv')"
   ]
  },
  {
   "cell_type": "markdown",
   "metadata": {},
   "source": [
    "## Part one (50 points): UNC Chapel Hill salaries\n",
    "## Q1 (5 points)\n",
    "At UNC Chapel Hill, do professors have higher incomes than assistant professors? \n",
    "Using the data provided in the link, you could determine whether or not professors have higher salaries than assistant professors. More information would be necessary about the clarification of the scope of this question to determine whether or not adjunct profs or other slightly different classifications that still fall within our two categories should be counted. We are able to determine who has the higher salary (not necessarily income because they may have other outside sources of income that are not recorded by this website) because we have the entire population data within the website."
   ]
  },
  {
   "cell_type": "markdown",
   "metadata": {},
   "source": [
    "## Q2 (5 points)"
   ]
  },
  {
   "cell_type": "code",
   "execution_count": 2,
   "metadata": {},
   "outputs": [
    {
     "data": {
      "text/plain": [
       "0         7\n",
       "1         6\n",
       "2        22\n",
       "3         2\n",
       "4         9\n",
       "         ..\n",
       "13096    11\n",
       "13097     6\n",
       "13098     3\n",
       "13099    14\n",
       "13100     2\n",
       "Name: empl_years, Length: 13101, dtype: int64"
      ]
     },
     "execution_count": 2,
     "metadata": {},
     "output_type": "execute_result"
    }
   ],
   "source": [
    "sal = sal.assign(empl_years = 2021 - sal.hire_year)\n",
    "sal.empl_years"
   ]
  },
  {
   "cell_type": "code",
   "execution_count": 3,
   "metadata": {},
   "outputs": [
    {
     "data": {
      "text/plain": [
       "(30.0, 45.0, 62.0, 45.59285550721319, 148.71025124240305)"
      ]
     },
     "execution_count": 3,
     "metadata": {},
     "output_type": "execute_result"
    }
   ],
   "source": [
    "sal.age.quantile(.1), sal.age.median(), sal.age.quantile(.9), sal.age.mean(), sal.age.var()"
   ]
  },
  {
   "cell_type": "code",
   "execution_count": 4,
   "metadata": {},
   "outputs": [
    {
     "data": {
      "text/plain": [
       "(38700.0, 68472.0, 185000.0, 92797.7503640946, 5143094812.438376)"
      ]
     },
     "execution_count": 4,
     "metadata": {},
     "output_type": "execute_result"
    }
   ],
   "source": [
    "sal.annual_base_salary.quantile(.1), sal.annual_base_salary.median(), sal.annual_base_salary.quantile(.9), sal.annual_base_salary.mean(), sal.annual_base_salary.var()"
   ]
  },
  {
   "cell_type": "code",
   "execution_count": 5,
   "metadata": {},
   "outputs": [
    {
     "data": {
      "text/plain": [
       "(2.0, 7.0, 22.0, 9.863750858713075, 73.20028971624575)"
      ]
     },
     "execution_count": 5,
     "metadata": {},
     "output_type": "execute_result"
    }
   ],
   "source": [
    "sal.empl_years.quantile(.1), sal.empl_years.median(), sal.empl_years.quantile(.9), sal.empl_years.mean(), sal.empl_years.var()"
   ]
  },
  {
   "cell_type": "markdown",
   "metadata": {},
   "source": [
    "## Q3 (5 points)"
   ]
  },
  {
   "cell_type": "code",
   "execution_count": 6,
   "metadata": {},
   "outputs": [
    {
     "data": {
      "text/plain": [
       "<AxesSubplot:title={'center':'Age of UNC Employees'}, ylabel='Frequency'>"
      ]
     },
     "execution_count": 6,
     "metadata": {},
     "output_type": "execute_result"
    },
    {
     "data": {
      "image/png": "[encoded data removed]",
      "text/plain": [
       "<Figure size 432x288 with 1 Axes>"
      ]
     },
     "metadata": {
      "needs_background": "light"
     },
     "output_type": "display_data"
    }
   ],
   "source": [
    "sal.age.plot.hist(bins=12, alpha=0.5, title= \"Age of UNC Employees\")"
   ]
  },
  {
   "cell_type": "code",
   "execution_count": 7,
   "metadata": {},
   "outputs": [
    {
     "data": {
      "text/plain": [
       "<AxesSubplot:title={'center':'Annual Base Salary of UNC Employees'}, ylabel='Frequency'>"
      ]
     },
     "execution_count": 7,
     "metadata": {},
     "output_type": "execute_result"
    },
    {
     "data": {
      "image/png": "[encoded data removed]",
      "text/plain": [
       "<Figure size 432x288 with 1 Axes>"
      ]
     },
     "metadata": {
      "needs_background": "light"
     },
     "output_type": "display_data"
    }
   ],
   "source": [
    "sal.annual_base_salary.plot.hist(bins=14, alpha=0.5, title = \"Annual Base Salary of UNC Employees\")"
   ]
  },
  {
   "cell_type": "markdown",
   "metadata": {},
   "source": [
    "Briefly explain the ways in which the histograms are consistent with the the mean, median and variance summary statistics from Q2: \n",
    "We can see that the previous 2 histograms are consistent with the the mean, median and variance summary statistics from Q2 by noting that the highest point (occuring the most frequent) is our mean. The median is at the middle of the dataset (skewed more left on the Annual Base Salary since it follows less of a normal distribution than age). Lastly, we can see the variance reflected in the histograms by the drastic changes in the Annual Base Salary to reflect the varation of 5143094812 and less of a stark change (more normal bell curve shape) in the age histogram, which is logical considering its much smaller variance of 148.\n",
    "\n",
    "## Q4 (2.5 points)\n",
    "Display the following variables\n",
    "\n",
    "age\n",
    "annual_base_salary\n",
    "empl_years\n",
    "job_category\n",
    "for the 10 observations with the highest annual_base_salary values."
   ]
  },
  {
   "cell_type": "code",
   "execution_count": 8,
   "metadata": {},
   "outputs": [
    {
     "data": {
      "text/plain": [
       "9634     72\n",
       "181      58\n",
       "12310    43\n",
       "1913     58\n",
       "5532     55\n",
       "973      47\n",
       "7016     53\n",
       "8809     65\n",
       "3293     56\n",
       "13001    61\n",
       "Name: age, dtype: int64"
      ]
     },
     "execution_count": 8,
     "metadata": {},
     "output_type": "execute_result"
    }
   ],
   "source": [
    "sal.nlargest(10, 'annual_base_salary').age"
   ]
  },
  {
   "cell_type": "code",
   "execution_count": 9,
   "metadata": {},
   "outputs": [
    {
     "data": {
      "text/plain": [
       "9634     837720.0\n",
       "181      799424.0\n",
       "12310    799424.0\n",
       "1913     747844.4\n",
       "5532     745000.0\n",
       "973      720000.0\n",
       "7016     720000.0\n",
       "8809     717000.0\n",
       "3293     678901.8\n",
       "13001    631165.0\n",
       "Name: annual_base_salary, dtype: float64"
      ]
     },
     "execution_count": 9,
     "metadata": {},
     "output_type": "execute_result"
    }
   ],
   "source": [
    "sal.nlargest(10, 'annual_base_salary').annual_base_salary"
   ]
  },
  {
   "cell_type": "code",
   "execution_count": 10,
   "metadata": {},
   "outputs": [
    {
     "data": {
      "text/plain": [
       "9634      1\n",
       "181       6\n",
       "12310     3\n",
       "1913     10\n",
       "5532      4\n",
       "973       3\n",
       "7016      3\n",
       "8809      0\n",
       "3293     24\n",
       "13001    13\n",
       "Name: empl_years, dtype: int64"
      ]
     },
     "execution_count": 10,
     "metadata": {},
     "output_type": "execute_result"
    }
   ],
   "source": [
    "sal.nlargest(10, 'annual_base_salary').empl_years"
   ]
  },
  {
   "cell_type": "code",
   "execution_count": 11,
   "metadata": {},
   "outputs": [
    {
     "data": {
      "text/plain": [
       "9634                         professor\n",
       "181                associate professor\n",
       "12310              assistant professor\n",
       "1913     chief athletics administrator\n",
       "5532                         professor\n",
       "973         assistant coach - football\n",
       "7016        assistant coach - football\n",
       "8809                         professor\n",
       "3293                         professor\n",
       "13001                        professor\n",
       "Name: job_category, dtype: object"
      ]
     },
     "execution_count": 11,
     "metadata": {},
     "output_type": "execute_result"
    }
   ],
   "source": [
    "sal.nlargest(10, 'annual_base_salary').job_category"
   ]
  },
  {
   "cell_type": "markdown",
   "metadata": {},
   "source": [
    "## Q5 (5 points)"
   ]
  },
  {
   "cell_type": "code",
   "execution_count": 12,
   "metadata": {},
   "outputs": [
    {
     "data": {
      "text/plain": [
       "job_category\n",
       " foodservice lead/supervisor                             54.000000\n",
       "academic advising professional                           41.540816\n",
       "academic advising professional, advisor/coordinator      39.700000\n",
       "academic services professional                           42.674419\n",
       "academic services professional, credential specialist    50.000000\n",
       "                                                           ...    \n",
       "veterinarian ad                                          42.000000\n",
       "vice chancellor                                          54.500000\n",
       "vice provost                                             48.000000\n",
       "videographer                                             36.000000\n",
       "videographer -athletics                                  31.000000\n",
       "Name: age, Length: 453, dtype: float64"
      ]
     },
     "execution_count": 12,
     "metadata": {},
     "output_type": "execute_result"
    }
   ],
   "source": [
    "sal.groupby('job_category').age.mean()"
   ]
  },
  {
   "cell_type": "code",
   "execution_count": 13,
   "metadata": {},
   "outputs": [
    {
     "data": {
      "text/plain": [
       "job_category\n",
       " foodservice lead/supervisor                              40003.000000\n",
       "academic advising professional                            62962.771122\n",
       "academic advising professional, advisor/coordinator       65641.550000\n",
       "academic services professional                            77594.657209\n",
       "academic services professional, credential specialist     51098.000000\n",
       "                                                             ...      \n",
       "veterinarian ad                                           50750.000000\n",
       "vice chancellor                                          330255.500000\n",
       "vice provost                                             269977.000000\n",
       "videographer                                              58000.000000\n",
       "videographer -athletics                                   49666.666667\n",
       "Name: annual_base_salary, Length: 453, dtype: float64"
      ]
     },
     "execution_count": 13,
     "metadata": {},
     "output_type": "execute_result"
    }
   ],
   "source": [
    "sal.groupby('job_category').annual_base_salary.mean()"
   ]
  },
  {
   "cell_type": "code",
   "execution_count": 14,
   "metadata": {},
   "outputs": [
    {
     "data": {
      "text/plain": [
       "job_category\n",
       " foodservice lead/supervisor                              6.000000\n",
       "academic advising professional                            7.040816\n",
       "academic advising professional, advisor/coordinator       4.500000\n",
       "academic services professional                            7.395349\n",
       "academic services professional, credential specialist     6.000000\n",
       "                                                           ...    \n",
       "veterinarian ad                                           2.000000\n",
       "vice chancellor                                           5.500000\n",
       "vice provost                                             19.000000\n",
       "videographer                                              3.000000\n",
       "videographer -athletics                                   2.666667\n",
       "Name: empl_years, Length: 453, dtype: float64"
      ]
     },
     "execution_count": 14,
     "metadata": {},
     "output_type": "execute_result"
    }
   ],
   "source": [
    "sal.groupby('job_category').empl_years.mean()"
   ]
  },
  {
   "cell_type": "code",
   "execution_count": 15,
   "metadata": {},
   "outputs": [
    {
     "data": {
      "text/html": [
       "<div>\n",
       "<style scoped>\n",
       "    .dataframe tbody tr th:only-of-type {\n",
       "        vertical-align: middle;\n",
       "    }\n",
       "\n",
       "    .dataframe tbody tr th {\n",
       "        vertical-align: top;\n",
       "    }\n",
       "\n",
       "    .dataframe thead th {\n",
       "        text-align: right;\n",
       "    }\n",
       "</style>\n",
       "<table border=\"1\" class=\"dataframe\">\n",
       "  <thead>\n",
       "    <tr style=\"text-align: right;\">\n",
       "      <th></th>\n",
       "      <th>institution_name</th>\n",
       "      <th>last_name</th>\n",
       "      <th>first_name</th>\n",
       "      <th>init</th>\n",
       "      <th>age</th>\n",
       "      <th>initial_hire_date</th>\n",
       "      <th>annual_base_salary</th>\n",
       "      <th>home_department</th>\n",
       "      <th>primary_working_title</th>\n",
       "      <th>hire_year</th>\n",
       "      <th>empl_years</th>\n",
       "    </tr>\n",
       "    <tr>\n",
       "      <th>job_category</th>\n",
       "      <th></th>\n",
       "      <th></th>\n",
       "      <th></th>\n",
       "      <th></th>\n",
       "      <th></th>\n",
       "      <th></th>\n",
       "      <th></th>\n",
       "      <th></th>\n",
       "      <th></th>\n",
       "      <th></th>\n",
       "      <th></th>\n",
       "    </tr>\n",
       "  </thead>\n",
       "  <tbody>\n",
       "    <tr>\n",
       "      <th>foodservice lead/supervisor</th>\n",
       "      <td>1</td>\n",
       "      <td>1</td>\n",
       "      <td>1</td>\n",
       "      <td>1</td>\n",
       "      <td>1</td>\n",
       "      <td>1</td>\n",
       "      <td>1</td>\n",
       "      <td>1</td>\n",
       "      <td>1</td>\n",
       "      <td>1</td>\n",
       "      <td>1</td>\n",
       "    </tr>\n",
       "    <tr>\n",
       "      <th>academic advising professional</th>\n",
       "      <td>98</td>\n",
       "      <td>98</td>\n",
       "      <td>98</td>\n",
       "      <td>98</td>\n",
       "      <td>98</td>\n",
       "      <td>98</td>\n",
       "      <td>98</td>\n",
       "      <td>98</td>\n",
       "      <td>98</td>\n",
       "      <td>98</td>\n",
       "      <td>98</td>\n",
       "    </tr>\n",
       "    <tr>\n",
       "      <th>academic advising professional, advisor/coordinator</th>\n",
       "      <td>10</td>\n",
       "      <td>10</td>\n",
       "      <td>10</td>\n",
       "      <td>10</td>\n",
       "      <td>10</td>\n",
       "      <td>10</td>\n",
       "      <td>10</td>\n",
       "      <td>10</td>\n",
       "      <td>10</td>\n",
       "      <td>10</td>\n",
       "      <td>10</td>\n",
       "    </tr>\n",
       "    <tr>\n",
       "      <th>academic services professional</th>\n",
       "      <td>43</td>\n",
       "      <td>43</td>\n",
       "      <td>43</td>\n",
       "      <td>43</td>\n",
       "      <td>43</td>\n",
       "      <td>43</td>\n",
       "      <td>43</td>\n",
       "      <td>43</td>\n",
       "      <td>43</td>\n",
       "      <td>43</td>\n",
       "      <td>43</td>\n",
       "    </tr>\n",
       "    <tr>\n",
       "      <th>academic services professional, credential specialist</th>\n",
       "      <td>1</td>\n",
       "      <td>1</td>\n",
       "      <td>1</td>\n",
       "      <td>1</td>\n",
       "      <td>1</td>\n",
       "      <td>1</td>\n",
       "      <td>1</td>\n",
       "      <td>1</td>\n",
       "      <td>1</td>\n",
       "      <td>1</td>\n",
       "      <td>1</td>\n",
       "    </tr>\n",
       "    <tr>\n",
       "      <th>...</th>\n",
       "      <td>...</td>\n",
       "      <td>...</td>\n",
       "      <td>...</td>\n",
       "      <td>...</td>\n",
       "      <td>...</td>\n",
       "      <td>...</td>\n",
       "      <td>...</td>\n",
       "      <td>...</td>\n",
       "      <td>...</td>\n",
       "      <td>...</td>\n",
       "      <td>...</td>\n",
       "    </tr>\n",
       "    <tr>\n",
       "      <th>veterinarian ad</th>\n",
       "      <td>1</td>\n",
       "      <td>1</td>\n",
       "      <td>1</td>\n",
       "      <td>1</td>\n",
       "      <td>1</td>\n",
       "      <td>1</td>\n",
       "      <td>1</td>\n",
       "      <td>1</td>\n",
       "      <td>1</td>\n",
       "      <td>1</td>\n",
       "      <td>1</td>\n",
       "    </tr>\n",
       "    <tr>\n",
       "      <th>vice chancellor</th>\n",
       "      <td>4</td>\n",
       "      <td>4</td>\n",
       "      <td>4</td>\n",
       "      <td>4</td>\n",
       "      <td>4</td>\n",
       "      <td>4</td>\n",
       "      <td>4</td>\n",
       "      <td>4</td>\n",
       "      <td>4</td>\n",
       "      <td>4</td>\n",
       "      <td>4</td>\n",
       "    </tr>\n",
       "    <tr>\n",
       "      <th>vice provost</th>\n",
       "      <td>1</td>\n",
       "      <td>1</td>\n",
       "      <td>1</td>\n",
       "      <td>1</td>\n",
       "      <td>1</td>\n",
       "      <td>1</td>\n",
       "      <td>1</td>\n",
       "      <td>1</td>\n",
       "      <td>1</td>\n",
       "      <td>1</td>\n",
       "      <td>1</td>\n",
       "    </tr>\n",
       "    <tr>\n",
       "      <th>videographer</th>\n",
       "      <td>1</td>\n",
       "      <td>1</td>\n",
       "      <td>1</td>\n",
       "      <td>1</td>\n",
       "      <td>1</td>\n",
       "      <td>1</td>\n",
       "      <td>1</td>\n",
       "      <td>1</td>\n",
       "      <td>1</td>\n",
       "      <td>1</td>\n",
       "      <td>1</td>\n",
       "    </tr>\n",
       "    <tr>\n",
       "      <th>videographer -athletics</th>\n",
       "      <td>3</td>\n",
       "      <td>3</td>\n",
       "      <td>3</td>\n",
       "      <td>3</td>\n",
       "      <td>3</td>\n",
       "      <td>3</td>\n",
       "      <td>3</td>\n",
       "      <td>3</td>\n",
       "      <td>3</td>\n",
       "      <td>3</td>\n",
       "      <td>3</td>\n",
       "    </tr>\n",
       "  </tbody>\n",
       "</table>\n",
       "<p>453 rows × 11 columns</p>\n",
       "</div>"
      ],
      "text/plain": [
       "                                                    institution_name  \\\n",
       "job_category                                                           \n",
       " foodservice lead/supervisor                                       1   \n",
       "academic advising professional                                    98   \n",
       "academic advising professional, advisor/coordin...                10   \n",
       "academic services professional                                    43   \n",
       "academic services professional, credential spec...                 1   \n",
       "...                                                              ...   \n",
       "veterinarian ad                                                    1   \n",
       "vice chancellor                                                    4   \n",
       "vice provost                                                       1   \n",
       "videographer                                                       1   \n",
       "videographer -athletics                                            3   \n",
       "\n",
       "                                                    last_name  first_name  \\\n",
       "job_category                                                                \n",
       " foodservice lead/supervisor                                1           1   \n",
       "academic advising professional                             98          98   \n",
       "academic advising professional, advisor/coordin...         10          10   \n",
       "academic services professional                             43          43   \n",
       "academic services professional, credential spec...          1           1   \n",
       "...                                                       ...         ...   \n",
       "veterinarian ad                                             1           1   \n",
       "vice chancellor                                             4           4   \n",
       "vice provost                                                1           1   \n",
       "videographer                                                1           1   \n",
       "videographer -athletics                                     3           3   \n",
       "\n",
       "                                                    init  age  \\\n",
       "job_category                                                    \n",
       " foodservice lead/supervisor                           1    1   \n",
       "academic advising professional                        98   98   \n",
       "academic advising professional, advisor/coordin...    10   10   \n",
       "academic services professional                        43   43   \n",
       "academic services professional, credential spec...     1    1   \n",
       "...                                                  ...  ...   \n",
       "veterinarian ad                                        1    1   \n",
       "vice chancellor                                        4    4   \n",
       "vice provost                                           1    1   \n",
       "videographer                                           1    1   \n",
       "videographer -athletics                                3    3   \n",
       "\n",
       "                                                    initial_hire_date  \\\n",
       "job_category                                                            \n",
       " foodservice lead/supervisor                                        1   \n",
       "academic advising professional                                     98   \n",
       "academic advising professional, advisor/coordin...                 10   \n",
       "academic services professional                                     43   \n",
       "academic services professional, credential spec...                  1   \n",
       "...                                                               ...   \n",
       "veterinarian ad                                                     1   \n",
       "vice chancellor                                                     4   \n",
       "vice provost                                                        1   \n",
       "videographer                                                        1   \n",
       "videographer -athletics                                             3   \n",
       "\n",
       "                                                    annual_base_salary  \\\n",
       "job_category                                                             \n",
       " foodservice lead/supervisor                                         1   \n",
       "academic advising professional                                      98   \n",
       "academic advising professional, advisor/coordin...                  10   \n",
       "academic services professional                                      43   \n",
       "academic services professional, credential spec...                   1   \n",
       "...                                                                ...   \n",
       "veterinarian ad                                                      1   \n",
       "vice chancellor                                                      4   \n",
       "vice provost                                                         1   \n",
       "videographer                                                         1   \n",
       "videographer -athletics                                              3   \n",
       "\n",
       "                                                    home_department  \\\n",
       "job_category                                                          \n",
       " foodservice lead/supervisor                                      1   \n",
       "academic advising professional                                   98   \n",
       "academic advising professional, advisor/coordin...               10   \n",
       "academic services professional                                   43   \n",
       "academic services professional, credential spec...                1   \n",
       "...                                                             ...   \n",
       "veterinarian ad                                                   1   \n",
       "vice chancellor                                                   4   \n",
       "vice provost                                                      1   \n",
       "videographer                                                      1   \n",
       "videographer -athletics                                           3   \n",
       "\n",
       "                                                    primary_working_title  \\\n",
       "job_category                                                                \n",
       " foodservice lead/supervisor                                            1   \n",
       "academic advising professional                                         98   \n",
       "academic advising professional, advisor/coordin...                     10   \n",
       "academic services professional                                         43   \n",
       "academic services professional, credential spec...                      1   \n",
       "...                                                                   ...   \n",
       "veterinarian ad                                                         1   \n",
       "vice chancellor                                                         4   \n",
       "vice provost                                                            1   \n",
       "videographer                                                            1   \n",
       "videographer -athletics                                                 3   \n",
       "\n",
       "                                                    hire_year  empl_years  \n",
       "job_category                                                               \n",
       " foodservice lead/supervisor                                1           1  \n",
       "academic advising professional                             98          98  \n",
       "academic advising professional, advisor/coordin...         10          10  \n",
       "academic services professional                             43          43  \n",
       "academic services professional, credential spec...          1           1  \n",
       "...                                                       ...         ...  \n",
       "veterinarian ad                                             1           1  \n",
       "vice chancellor                                             4           4  \n",
       "vice provost                                                1           1  \n",
       "videographer                                                1           1  \n",
       "videographer -athletics                                     3           3  \n",
       "\n",
       "[453 rows x 11 columns]"
      ]
     },
     "execution_count": 15,
     "metadata": {},
     "output_type": "execute_result"
    }
   ],
   "source": [
    "sal.groupby('job_category').count()"
   ]
  },
  {
   "cell_type": "code",
   "execution_count": 16,
   "metadata": {},
   "outputs": [
    {
     "data": {
      "text/plain": [
       "13101"
      ]
     },
     "execution_count": 16,
     "metadata": {},
     "output_type": "execute_result"
    }
   ],
   "source": [
    "sal.job_category.count()"
   ]
  },
  {
   "cell_type": "markdown",
   "metadata": {},
   "source": [
    "## Q6 (7.5 points)\n",
    "List the top 10 job categories by mean of annual_base_salary, using your answer to Q5\n",
    "Compare this list with the top-10 list from Q4. Specifically, are the job categories represented the same? How can you explain the differences or similarities?\n",
    "Hint: Use the definition of the mean"
   ]
  },
  {
   "cell_type": "code",
   "execution_count": 91,
   "metadata": {},
   "outputs": [
    {
     "data": {
      "text/plain": [
       "(9634                         professor\n",
       " 181                associate professor\n",
       " 12310              assistant professor\n",
       " 1913     chief athletics administrator\n",
       " 5532                         professor\n",
       " 973         assistant coach - football\n",
       " 7016        assistant coach - football\n",
       " 8809                         professor\n",
       " 3293                         professor\n",
       " 13001                        professor\n",
       " Name: job_category, dtype: object,\n",
       " 9634     837720.0\n",
       " 181      799424.0\n",
       " 12310    799424.0\n",
       " 1913     747844.4\n",
       " 5532     745000.0\n",
       " 973      720000.0\n",
       " 7016     720000.0\n",
       " 8809     717000.0\n",
       " 3293     678901.8\n",
       " 13001    631165.0\n",
       " Name: annual_base_salary, dtype: float64)"
      ]
     },
     "execution_count": 91,
     "metadata": {},
     "output_type": "execute_result"
    }
   ],
   "source": [
    "sal.nlargest(10, 'annual_base_salary').job_category, sal.nlargest(10, 'annual_base_salary').annual_base_salary"
   ]
  },
  {
   "cell_type": "code",
   "execution_count": 89,
   "metadata": {},
   "outputs": [
    {
     "data": {
      "text/html": [
       "<div>\n",
       "<style scoped>\n",
       "    .dataframe tbody tr th:only-of-type {\n",
       "        vertical-align: middle;\n",
       "    }\n",
       "\n",
       "    .dataframe tbody tr th {\n",
       "        vertical-align: top;\n",
       "    }\n",
       "\n",
       "    .dataframe thead th {\n",
       "        text-align: right;\n",
       "    }\n",
       "</style>\n",
       "<table border=\"1\" class=\"dataframe\">\n",
       "  <thead>\n",
       "    <tr style=\"text-align: right;\">\n",
       "      <th></th>\n",
       "      <th>annual_base_salary</th>\n",
       "    </tr>\n",
       "    <tr>\n",
       "      <th>job_category</th>\n",
       "      <th></th>\n",
       "    </tr>\n",
       "  </thead>\n",
       "  <tbody>\n",
       "    <tr>\n",
       "      <th>chief athletics administrator</th>\n",
       "      <td>747844.400000</td>\n",
       "    </tr>\n",
       "    <tr>\n",
       "      <th>chancellor</th>\n",
       "      <td>620000.000000</td>\n",
       "    </tr>\n",
       "    <tr>\n",
       "      <th>dean, business</th>\n",
       "      <td>514326.550000</td>\n",
       "    </tr>\n",
       "    <tr>\n",
       "      <th>head coach - men's basketball</th>\n",
       "      <td>500000.000000</td>\n",
       "    </tr>\n",
       "    <tr>\n",
       "      <th>chief academic affairs officer / provost</th>\n",
       "      <td>493182.000000</td>\n",
       "    </tr>\n",
       "    <tr>\n",
       "      <th>chief development / advancement officer</th>\n",
       "      <td>466160.210000</td>\n",
       "    </tr>\n",
       "    <tr>\n",
       "      <th>dean, law</th>\n",
       "      <td>404934.000000</td>\n",
       "    </tr>\n",
       "    <tr>\n",
       "      <th>chief legal affairs officer</th>\n",
       "      <td>400000.000000</td>\n",
       "    </tr>\n",
       "    <tr>\n",
       "      <th>assistant coach - football</th>\n",
       "      <td>388277.545455</td>\n",
       "    </tr>\n",
       "    <tr>\n",
       "      <th>dean, nursing</th>\n",
       "      <td>370414.000000</td>\n",
       "    </tr>\n",
       "  </tbody>\n",
       "</table>\n",
       "</div>"
      ],
      "text/plain": [
       "                                          annual_base_salary\n",
       "job_category                                                \n",
       "chief athletics administrator                  747844.400000\n",
       "chancellor                                     620000.000000\n",
       "dean, business                                 514326.550000\n",
       "head coach - men's basketball                  500000.000000\n",
       "chief academic affairs officer / provost       493182.000000\n",
       "chief development / advancement officer        466160.210000\n",
       "dean, law                                      404934.000000\n",
       "chief legal affairs officer                    400000.000000\n",
       "assistant coach - football                     388277.545455\n",
       "dean, nursing                                  370414.000000"
      ]
     },
     "execution_count": 89,
     "metadata": {},
     "output_type": "execute_result"
    }
   ],
   "source": [
    "dd = pd.DataFrame(sal.groupby('job_category').annual_base_salary.mean())\n",
    "dd.nlargest(10, 'annual_base_salary')"
   ]
  },
  {
   "cell_type": "markdown",
   "metadata": {},
   "source": [
    "No the job categories are not represented the same in both above charts (first from Q4 and second from Q5). This is because of the way that the data is accumulated and represented for each chart. The second chart is the mean or average base salary for the listed job categories. The charts from Q4 simply show the highest 10 overall salaries. These could be outliers or things of that nature. Q5 table shows the highest average salaries rather than only the 10 highest instances recorded in our data and this explains the discrepances."
   ]
  },
  {
   "cell_type": "markdown",
   "metadata": {},
   "source": [
    "## Q7 (5 points)"
   ]
  },
  {
   "cell_type": "code",
   "execution_count": 65,
   "metadata": {},
   "outputs": [
    {
     "data": {
      "image/png": "[encoded data removed]",
      "text/plain": [
       "<Figure size 432x288 with 1 Axes>"
      ]
     },
     "metadata": {
      "needs_background": "light"
     },
     "output_type": "display_data"
    }
   ],
   "source": [
    "df = pd.DataFrame([sal.groupby('job_category').age.mean(), sal.groupby('job_category').annual_base_salary.mean()])\n",
    "df = df.T\n",
    "ax1 = df.plot.scatter(x='age',\n",
    "                      y='annual_base_salary',\n",
    "                      c='DarkBlue',\n",
    "                      title = 'Correlation between Annual base salary and age of employees at UNC')"
   ]
  },
  {
   "cell_type": "markdown",
   "metadata": {},
   "source": [
    "## Q8 (5 points)\n",
    "The correlation of age and annual base salary calculated does make sense given the above plot. The correlation is about 1/2, meaning that there is a slight positive correlation. In terms of our data, this would mean that as we examine older employees, their annual base salary tends to increase. This is also visible from the plot given the weak diagonal line from the points."
   ]
  },
  {
   "cell_type": "code",
   "execution_count": 67,
   "metadata": {},
   "outputs": [
    {
     "data": {
      "text/plain": [
       "0.49878061315421435"
      ]
     },
     "execution_count": 67,
     "metadata": {},
     "output_type": "execute_result"
    }
   ],
   "source": [
    "df.loc[:, 'age'].corr(df.loc[:, 'annual_base_salary'])"
   ]
  },
  {
   "cell_type": "markdown",
   "metadata": {},
   "source": [
    "## Q9 (10 points)\n"
   ]
  },
  {
   "cell_type": "code",
   "execution_count": 85,
   "metadata": {},
   "outputs": [
    {
     "data": {
      "text/plain": [
       "(0.6141323129249139,\n",
       " 0.26327890850970465,\n",
       " -0.022852424202558726,\n",
       " -0.048381327381430354,\n",
       " 0.009843594129839088)"
      ]
     },
     "execution_count": 85,
     "metadata": {},
     "output_type": "execute_result"
    }
   ],
   "source": [
    "d = pd.DataFrame([sal.groupby('job_category').age.mean(), sal.groupby('job_category').annual_base_salary.mean(), sal.groupby('job_category').empl_years.mean()])\n",
    "d = d.T\n",
    "x = sal.groupby('job_category').count().T\n",
    "d.loc[:, 'age'].corr(d.loc[:, 'empl_years']), d.loc[:, 'annual_base_salary'].corr(d.loc[:, 'empl_years']),d.loc[:, 'age'].corr(x.iloc[0]), d.loc[:, 'annual_base_salary'].corr(x.iloc[0]), d.loc[:, 'empl_years'].corr(x.iloc[0])"
   ]
  },
  {
   "cell_type": "markdown",
   "metadata": {},
   "source": [
    "Based on that information, explain briefly whether empl_years is or is not a possible 'confounding' or 'lurking' variable for the purpose of understanding correlation between age and annual_base_salary:\n",
    "I think that empl_years could be a possible confounding variable considering the correlation between it and the salary was very insignificant, meaning it had little effect or bearance on our salary variable. There was a slight correlation between age and empl_years, which makes sense because older people will have tended to be employed longer; however, that is not pertinent to our assessment of the correlation between age and annual_base_salary."
   ]
  },
  {
   "cell_type": "markdown",
   "metadata": {},
   "source": [
    "## Part two (50 points): Tree canopy in Orange and Durham counties\n",
    "## Q1 (5 points)"
   ]
  },
  {
   "cell_type": "code",
   "execution_count": 18,
   "metadata": {},
   "outputs": [],
   "source": [
    "canopy = pd.read_csv('https://raw.githubusercontent.com/brendanrbrown/stor155_sp21/main/final_project/canopy/canopy.csv')"
   ]
  },
  {
   "cell_type": "code",
   "execution_count": 105,
   "metadata": {},
   "outputs": [
    {
     "data": {
      "text/plain": [
       "0          0.0\n",
       "1          1.0\n",
       "2          1.0\n",
       "3          1.0\n",
       "4          1.0\n",
       "          ... \n",
       "2019110    1.0\n",
       "2019111    0.0\n",
       "2019112    0.0\n",
       "2019113    1.0\n",
       "2019114    1.0\n",
       "Name: tree_target, Length: 2019115, dtype: float64"
      ]
     },
     "execution_count": 105,
     "metadata": {},
     "output_type": "execute_result"
    }
   ],
   "source": [
    "canopy.loc[canopy['value'] < 40, 'tree_target'] = 0\n",
    "canopy.loc[canopy['value'] >= 40, 'tree_target'] = 1\n",
    "canopy.tree_target"
   ]
  },
  {
   "cell_type": "code",
   "execution_count": 20,
   "metadata": {},
   "outputs": [
    {
     "data": {
      "text/plain": [
       "county\n",
       "durham    57.514916\n",
       "orange    62.904759\n",
       "Name: value, dtype: float64"
      ]
     },
     "execution_count": 20,
     "metadata": {},
     "output_type": "execute_result"
    }
   ],
   "source": [
    "canopy.groupby('county').value.mean()"
   ]
  },
  {
   "cell_type": "code",
   "execution_count": 21,
   "metadata": {},
   "outputs": [
    {
     "data": {
      "text/plain": [
       "county\n",
       "durham    0.655700\n",
       "orange    0.694709\n",
       "Name: tree_target, dtype: float64"
      ]
     },
     "execution_count": 21,
     "metadata": {},
     "output_type": "execute_result"
    }
   ],
   "source": [
    "canopy.groupby('county').tree_target.mean()"
   ]
  },
  {
   "cell_type": "code",
   "execution_count": 22,
   "metadata": {},
   "outputs": [
    {
     "data": {
      "text/html": [
       "<div>\n",
       "<style scoped>\n",
       "    .dataframe tbody tr th:only-of-type {\n",
       "        vertical-align: middle;\n",
       "    }\n",
       "\n",
       "    .dataframe tbody tr th {\n",
       "        vertical-align: top;\n",
       "    }\n",
       "\n",
       "    .dataframe thead th {\n",
       "        text-align: right;\n",
       "    }\n",
       "</style>\n",
       "<table border=\"1\" class=\"dataframe\">\n",
       "  <thead>\n",
       "    <tr style=\"text-align: right;\">\n",
       "      <th></th>\n",
       "      <th>value</th>\n",
       "      <th>tree_target</th>\n",
       "    </tr>\n",
       "    <tr>\n",
       "      <th>county</th>\n",
       "      <th></th>\n",
       "      <th></th>\n",
       "    </tr>\n",
       "  </thead>\n",
       "  <tbody>\n",
       "    <tr>\n",
       "      <th>durham</th>\n",
       "      <td>857122</td>\n",
       "      <td>857122</td>\n",
       "    </tr>\n",
       "    <tr>\n",
       "      <th>orange</th>\n",
       "      <td>1161993</td>\n",
       "      <td>1161993</td>\n",
       "    </tr>\n",
       "  </tbody>\n",
       "</table>\n",
       "</div>"
      ],
      "text/plain": [
       "          value  tree_target\n",
       "county                      \n",
       "durham   857122       857122\n",
       "orange  1161993      1161993"
      ]
     },
     "execution_count": 22,
     "metadata": {},
     "output_type": "execute_result"
    }
   ],
   "source": [
    "canopy.groupby('county').count()"
   ]
  },
  {
   "cell_type": "markdown",
   "metadata": {},
   "source": [
    "## Q2 (7.5 points)\n",
    "A binomial distribution is appropriate for the number of observations in each sample of size 20 such that tree_target is 1 because it satisfies the 4 conditions and because the decription of our problem explains that we are counting the successes in independent trials. Each observation is one of 2 possibilities - either a success or failure ( 1 or 0 in the case of our data), all observations are independent, there is a fixed number of observations, and the probability of success, p, is the same for each observation. We would expect the theoretical mean to be 0.655700 for the tree_target of Durham county and  57.514916 to be the value mean for Durham county.\n",
    "\n",
    "## Q3 (7.5 points)\n",
    "These means should be close to the expected values calculated above because the mean of a sample is always very close to the population mean (given an appropriate sample). So with our random sample of 100, it makes sense that our data is reflective of the population."
   ]
  },
  {
   "cell_type": "code",
   "execution_count": 131,
   "metadata": {},
   "outputs": [
    {
     "data": {
      "text/plain": [
       "(58.34, 0.66)"
      ]
     },
     "execution_count": 131,
     "metadata": {},
     "output_type": "execute_result"
    }
   ],
   "source": [
    "import random\n",
    "s = [canopy.loc[canopy.county=='durham'].sample(i, replace = True).reset_index(drop = True) for i in [100]]\n",
    "s[0].value.mean(), s[0].tree_target.mean()"
   ]
  },
  {
   "cell_type": "markdown",
   "metadata": {},
   "source": [
    "## Q4 (10 points)\n",
    "create a random sample from the dataset of size 100 observations. I will refer to this as 'sample 0'\n",
    "create a random sample from the dataset of size 20 observations. I will refer to this as sample 1.\n",
    "for each sample, calculate by county\n",
    "the mean of value, meaning the average tree canopy coverage\n",
    "the standard deviation of value\n",
    "the number of samples from each county\n",
    "the standard error for the appropriate sample size --- in other words, give a point estimate for the standard deviation for the mean of a random sample of size 100 and 20, respectively"
   ]
  },
  {
   "cell_type": "code",
   "execution_count": 23,
   "metadata": {},
   "outputs": [],
   "source": [
    "import random\n",
    "samples = [canopy.sample(i, replace = True).reset_index(drop = True) for i in [100, 20]]"
   ]
  },
  {
   "cell_type": "code",
   "execution_count": 24,
   "metadata": {},
   "outputs": [
    {
     "data": {
      "text/plain": [
       "(county\n",
       " durham    44.743590\n",
       " orange    62.672131\n",
       " Name: value, dtype: float64,\n",
       " county\n",
       " durham    37.024684\n",
       " orange    43.759083\n",
       " Name: value, dtype: float64,\n",
       "         value  tree_target\n",
       " county                    \n",
       " durham     39           39\n",
       " orange     61           61)"
      ]
     },
     "execution_count": 24,
     "metadata": {},
     "output_type": "execute_result"
    }
   ],
   "source": [
    "samples[0].groupby('county').value.mean(), samples[0].groupby('county').value.std(), samples[0].groupby('county').count()"
   ]
  },
  {
   "cell_type": "code",
   "execution_count": 25,
   "metadata": {},
   "outputs": [
    {
     "data": {
      "text/plain": [
       "(county\n",
       " durham    37.000000\n",
       " orange    58.153846\n",
       " Name: value, dtype: float64,\n",
       " county\n",
       " durham    47.042534\n",
       " orange    40.922378\n",
       " Name: value, dtype: float64,\n",
       "         value  tree_target\n",
       " county                    \n",
       " durham      7            7\n",
       " orange     13           13)"
      ]
     },
     "execution_count": 25,
     "metadata": {},
     "output_type": "execute_result"
    }
   ],
   "source": [
    "samples[1].groupby('county').value.mean(), samples[1].groupby('county').value.std(), samples[1].groupby('county').count()"
   ]
  },
  {
   "cell_type": "code",
   "execution_count": 26,
   "metadata": {},
   "outputs": [
    {
     "data": {
      "text/plain": [
       "(4.199924963254665, 9.653162830470588)"
      ]
     },
     "execution_count": 26,
     "metadata": {},
     "output_type": "execute_result"
    }
   ],
   "source": [
    "# give a point estimate for the standard deviation for the mean of a random sample of size 100 and 20, respectively\n",
    "se0 = samples[0].value.std()/(samples[0].count() ** 0.5)\n",
    "se1 = samples[1].value.std()/(samples[1].count() ** 0.5)\n",
    "se0 = se0.value\n",
    "se1 = se1.value\n",
    "se0,se1"
   ]
  },
  {
   "cell_type": "markdown",
   "metadata": {},
   "source": [
    "## Q5 (10 points)"
   ]
  },
  {
   "cell_type": "code",
   "execution_count": 132,
   "metadata": {},
   "outputs": [
    {
     "data": {
      "text/plain": [
       "(38.84269517021694, 50.64448431696255)"
      ]
     },
     "execution_count": 132,
     "metadata": {},
     "output_type": "execute_result"
    }
   ],
   "source": [
    "zScore = 1.405\n",
    "me0 = zScore*se0\n",
    "me1 = zScore*se1\n",
    "durhamMean = samples[0].groupby('county').value.mean()[0]\n",
    "ci00 = durhamMean + me0\n",
    "ci01 = durhamMean - me0\n",
    "ci10 = durhamMean + me1\n",
    "ci11 = durhamMean - me1\n",
    "#sample0 CI:\n",
    "ci01,ci00"
   ]
  },
  {
   "cell_type": "code",
   "execution_count": 133,
   "metadata": {},
   "outputs": [
    {
     "data": {
      "text/plain": [
       "(31.180895966778568, 58.306283520400925)"
      ]
     },
     "execution_count": 133,
     "metadata": {},
     "output_type": "execute_result"
    }
   ],
   "source": [
    "#sample1 CI:\n",
    "ci11,ci10"
   ]
  },
  {
   "cell_type": "markdown",
   "metadata": {},
   "source": [
    "compare these two confidence intervals, and explain why they differ in size --- if in fact they do: The two confidence intervals differ in size by about 15. The interval for our larger sample size is smaller than the interval for the small sample size. This makes sense because with more data, we are able to increase our confidence and tighten the interval.\n",
    "\n",
    "## Q6 (10 points)"
   ]
  },
  {
   "cell_type": "code",
   "execution_count": 29,
   "metadata": {},
   "outputs": [
    {
     "data": {
      "text/html": [
       "<div>\n",
       "<style scoped>\n",
       "    .dataframe tbody tr th:only-of-type {\n",
       "        vertical-align: middle;\n",
       "    }\n",
       "\n",
       "    .dataframe tbody tr th {\n",
       "        vertical-align: top;\n",
       "    }\n",
       "\n",
       "    .dataframe thead th {\n",
       "        text-align: right;\n",
       "    }\n",
       "</style>\n",
       "<table border=\"1\" class=\"dataframe\">\n",
       "  <thead>\n",
       "    <tr style=\"text-align: right;\">\n",
       "      <th></th>\n",
       "      <th>mean</th>\n",
       "      <th>std</th>\n",
       "      <th>size</th>\n",
       "      <th>serr</th>\n",
       "    </tr>\n",
       "    <tr>\n",
       "      <th>county</th>\n",
       "      <th></th>\n",
       "      <th></th>\n",
       "      <th></th>\n",
       "      <th></th>\n",
       "    </tr>\n",
       "  </thead>\n",
       "  <tbody>\n",
       "    <tr>\n",
       "      <th>durham</th>\n",
       "      <td>44.743590</td>\n",
       "      <td>37.024684</td>\n",
       "      <td>39</td>\n",
       "      <td>5.928694</td>\n",
       "    </tr>\n",
       "    <tr>\n",
       "      <th>orange</th>\n",
       "      <td>62.672131</td>\n",
       "      <td>43.759083</td>\n",
       "      <td>61</td>\n",
       "      <td>5.602777</td>\n",
       "    </tr>\n",
       "  </tbody>\n",
       "</table>\n",
       "</div>"
      ],
      "text/plain": [
       "             mean        std  size      serr\n",
       "county                                      \n",
       "durham  44.743590  37.024684    39  5.928694\n",
       "orange  62.672131  43.759083    61  5.602777"
      ]
     },
     "execution_count": 29,
     "metadata": {},
     "output_type": "execute_result"
    }
   ],
   "source": [
    "dhat = samples[0].loc[:, ['county', 'value']].groupby('county').agg(['mean', 'std', 'size'])\n",
    "dhat.columns = dhat.columns.droplevel(0)\n",
    "dhat = dhat.assign(serr = dhat.loc[:, 'std'] / dhat.loc[:, 'size']**.5)\n",
    "dhat"
   ]
  },
  {
   "cell_type": "code",
   "execution_count": 30,
   "metadata": {},
   "outputs": [
    {
     "data": {
      "text/plain": [
       "(8.157237367922543, -2.1978692779559528)"
      ]
     },
     "execution_count": 30,
     "metadata": {},
     "output_type": "execute_result"
    }
   ],
   "source": [
    "s = (dhat.loc['durham', 'serr']**2 + dhat.loc['orange', 'serr']**2)**.5\n",
    "z = -abs(dhat.loc['durham', 'mean'] - dhat.loc['orange', 'mean'])/s\n",
    "s, z"
   ]
  },
  {
   "cell_type": "code",
   "execution_count": 31,
   "metadata": {},
   "outputs": [],
   "source": [
    "p = 2*stats.norm.cdf(-z)\n",
    "p0 = p"
   ]
  },
  {
   "cell_type": "code",
   "execution_count": 32,
   "metadata": {},
   "outputs": [
    {
     "data": {
      "text/plain": [
       "(21.09410812470587, -1.0028319770045322)"
      ]
     },
     "execution_count": 32,
     "metadata": {},
     "output_type": "execute_result"
    }
   ],
   "source": [
    "dhat = samples[1].loc[:, ['county', 'value']].groupby('county').agg(['mean', 'std', 'size'])\n",
    "dhat.columns = dhat.columns.droplevel(0)\n",
    "dhat = dhat.assign(serr = dhat.loc[:, 'std'] / dhat.loc[:, 'size']**.5)\n",
    "s = (dhat.loc['durham', 'serr']**2 + dhat.loc['orange', 'serr']**2)**.5\n",
    "z = -abs(dhat.loc['durham', 'mean'] - dhat.loc['orange', 'mean'])/s\n",
    "s, z"
   ]
  },
  {
   "cell_type": "code",
   "execution_count": 99,
   "metadata": {},
   "outputs": [],
   "source": [
    "p = 2*stats.norm.cdf(-z)\n",
    "p1 = p"
   ]
  },
  {
   "cell_type": "code",
   "execution_count": 34,
   "metadata": {},
   "outputs": [
    {
     "data": {
      "text/plain": [
       "(1.9720415772211544, 1.6840580625669985)"
      ]
     },
     "execution_count": 34,
     "metadata": {},
     "output_type": "execute_result"
    }
   ],
   "source": [
    "p0,p1"
   ]
  },
  {
   "cell_type": "markdown",
   "metadata": {},
   "source": [
    "We fail to reject the null hypothesis and cannot accept the alternative hypothesis in both cases of sample0 and sample1 because our p values are greater than our alpha of 0.075. Sample0 would be better to base any conclusions on because it is the larger sample size and is much more likely to accurately reflect the population from which it was sampled. If we were to choose the smaller sample, we may come to conclusions that are not reflective of our population simply due to the possibilities of randomness when we randomly selected our samples."
   ]
  }
 ],
 "metadata": {
  "kernelspec": {
   "display_name": "Python 3",
   "language": "python",
   "name": "python3"
  },
  "language_info": {
   "codemirror_mode": {
    "name": "ipython",
    "version": 3
   },
   "file_extension": ".py",
   "mimetype": "text/x-python",
   "name": "python",
   "nbconvert_exporter": "python",
   "pygments_lexer": "ipython3",
   "version": "3.8.5"
  }
 },
 "nbformat": 4,
 "nbformat_minor": 4
}
